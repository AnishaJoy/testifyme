{
 "cells": [
  {
   "cell_type": "code",
   "execution_count": 1,
   "metadata": {},
   "outputs": [
    {
     "name": "stderr",
     "output_type": "stream",
     "text": [
      "D:\\Anaconda\\lib\\site-packages\\IPython\\core\\interactiveshell.py:3146: DtypeWarning: Columns (1,2,3,4,5) have mixed types.Specify dtype option on import or set low_memory=False.\n",
      "  has_raised = await self.run_ast_nodes(code_ast.body, cell_name,\n"
     ]
    }
   ],
   "source": [
    "##Importing all modules\n",
    "import numpy as np\n",
    "import pandas as pd\n",
    "import seaborn as sns\n",
    "from sklearn import metrics\n",
    "from sklearn import preprocessing\n",
    "from sklearn import model_selection\n",
    "from sklearn import feature_selection\n",
    "from sklearn import ensemble\n",
    "import pickle\n",
    "df=pd.read_csv(\"coronadataset.csv\")"
   ]
  },
  {
   "cell_type": "code",
   "execution_count": 2,
   "metadata": {},
   "outputs": [
    {
     "data": {
      "text/html": [
       "<div>\n",
       "<style scoped>\n",
       "    .dataframe tbody tr th:only-of-type {\n",
       "        vertical-align: middle;\n",
       "    }\n",
       "\n",
       "    .dataframe tbody tr th {\n",
       "        vertical-align: top;\n",
       "    }\n",
       "\n",
       "    .dataframe thead th {\n",
       "        text-align: right;\n",
       "    }\n",
       "</style>\n",
       "<table border=\"1\" class=\"dataframe\">\n",
       "  <thead>\n",
       "    <tr style=\"text-align: right;\">\n",
       "      <th></th>\n",
       "      <th>test_date</th>\n",
       "      <th>cough</th>\n",
       "      <th>fever</th>\n",
       "      <th>sore_throat</th>\n",
       "      <th>shortness_of_breath</th>\n",
       "      <th>head_ache</th>\n",
       "      <th>corona_result</th>\n",
       "      <th>age_60_and_above</th>\n",
       "      <th>gender</th>\n",
       "      <th>test_indication</th>\n",
       "    </tr>\n",
       "  </thead>\n",
       "  <tbody>\n",
       "    <tr>\n",
       "      <th>0</th>\n",
       "      <td>30-04-2020</td>\n",
       "      <td>0</td>\n",
       "      <td>0</td>\n",
       "      <td>0</td>\n",
       "      <td>0</td>\n",
       "      <td>0</td>\n",
       "      <td>negative</td>\n",
       "      <td>None</td>\n",
       "      <td>female</td>\n",
       "      <td>Other</td>\n",
       "    </tr>\n",
       "    <tr>\n",
       "      <th>1</th>\n",
       "      <td>30-04-2020</td>\n",
       "      <td>1</td>\n",
       "      <td>0</td>\n",
       "      <td>0</td>\n",
       "      <td>0</td>\n",
       "      <td>0</td>\n",
       "      <td>negative</td>\n",
       "      <td>None</td>\n",
       "      <td>female</td>\n",
       "      <td>Other</td>\n",
       "    </tr>\n",
       "    <tr>\n",
       "      <th>2</th>\n",
       "      <td>30-04-2020</td>\n",
       "      <td>0</td>\n",
       "      <td>1</td>\n",
       "      <td>0</td>\n",
       "      <td>0</td>\n",
       "      <td>0</td>\n",
       "      <td>negative</td>\n",
       "      <td>None</td>\n",
       "      <td>male</td>\n",
       "      <td>Other</td>\n",
       "    </tr>\n",
       "    <tr>\n",
       "      <th>3</th>\n",
       "      <td>30-04-2020</td>\n",
       "      <td>1</td>\n",
       "      <td>0</td>\n",
       "      <td>0</td>\n",
       "      <td>0</td>\n",
       "      <td>0</td>\n",
       "      <td>negative</td>\n",
       "      <td>None</td>\n",
       "      <td>female</td>\n",
       "      <td>Other</td>\n",
       "    </tr>\n",
       "  </tbody>\n",
       "</table>\n",
       "</div>"
      ],
      "text/plain": [
       "    test_date cough fever sore_throat shortness_of_breath head_ache  \\\n",
       "0  30-04-2020     0     0           0                   0         0   \n",
       "1  30-04-2020     1     0           0                   0         0   \n",
       "2  30-04-2020     0     1           0                   0         0   \n",
       "3  30-04-2020     1     0           0                   0         0   \n",
       "\n",
       "  corona_result age_60_and_above  gender test_indication  \n",
       "0      negative             None  female           Other  \n",
       "1      negative             None  female           Other  \n",
       "2      negative             None    male           Other  \n",
       "3      negative             None  female           Other  "
      ]
     },
     "execution_count": 2,
     "metadata": {},
     "output_type": "execute_result"
    }
   ],
   "source": [
    "df[:4] ##Glimpse of the dataset"
   ]
  },
  {
   "cell_type": "code",
   "execution_count": 3,
   "metadata": {},
   "outputs": [
    {
     "name": "stdout",
     "output_type": "stream",
     "text": [
      "test_date  :  object\n",
      "cough  :  object\n",
      "fever  :  object\n",
      "sore_throat  :  object\n",
      "shortness_of_breath  :  object\n",
      "head_ache  :  object\n",
      "corona_result  :  object\n",
      "age_60_and_above  :  object\n",
      "gender  :  object\n",
      "test_indication  :  object\n"
     ]
    }
   ],
   "source": [
    "for col in df:\n",
    "    print(col,\" : \",df[col].dtype) ##checking datatype of all the columns in the dataset"
   ]
  },
  {
   "cell_type": "code",
   "execution_count": 4,
   "metadata": {},
   "outputs": [
    {
     "name": "stdout",
     "output_type": "stream",
     "text": [
      "test_date\n",
      "20-04-2020    10786\n",
      "19-04-2020    10028\n",
      "22-04-2020     9530\n",
      "21-04-2020     9492\n",
      "16-04-2020     8999\n",
      "23-04-2020     8590\n",
      "01-04-2020     8476\n",
      "13-04-2020     8201\n",
      "02-04-2020     8004\n",
      "03-04-2020     7907\n",
      "17-04-2020     7546\n",
      "05-04-2020     7359\n",
      "27-04-2020     7200\n",
      "30-04-2020     7188\n",
      "15-04-2020     7034\n",
      "31-03-2020     6953\n",
      "24-04-2020     6912\n",
      "26-03-2020     6555\n",
      "14-04-2020     6410\n",
      "28-04-2020     6249\n",
      "18-04-2020     6209\n",
      "26-04-2020     6052\n",
      "27-03-2020     5846\n",
      "12-04-2020     5833\n",
      "07-04-2020     5748\n",
      "30-03-2020     5746\n",
      "10-04-2020     5561\n",
      "28-03-2020     5490\n",
      "25-03-2020     5415\n",
      "06-04-2020     5219\n",
      "29-03-2020     5161\n",
      "25-04-2020     4983\n",
      "04-04-2020     4949\n",
      "24-03-2020     4669\n",
      "09-04-2020     4452\n",
      "11-04-2020     4237\n",
      "29-04-2020     4210\n",
      "08-04-2020     3973\n",
      "22-03-2020     3524\n",
      "23-03-2020     3413\n",
      "19-03-2020     2213\n",
      "18-03-2020     1960\n",
      "20-03-2020     1842\n",
      "21-03-2020     1585\n",
      "17-03-2020     1441\n",
      "16-03-2020     1276\n",
      "15-03-2020      968\n",
      "13-03-2020      672\n",
      "12-03-2020      621\n",
      "14-03-2020      596\n",
      "11-03-2020      279\n",
      "Name: test_date, dtype: int64\n",
      "\n",
      "cough\n",
      "0       118370\n",
      "0.0     112712\n",
      "1        25875\n",
      "1.0      16353\n",
      "None       252\n",
      "Name: cough, dtype: int64\n",
      "\n",
      "fever\n",
      "0       130663\n",
      "0.0     120895\n",
      "1        13582\n",
      "1.0       8170\n",
      "None       252\n",
      "Name: fever, dtype: int64\n",
      "\n",
      "sore_throat\n",
      "0.0     255686\n",
      "0        15949\n",
      "1.0       1480\n",
      "1          446\n",
      "None         1\n",
      "Name: sore_throat, dtype: int64\n",
      "\n",
      "shortness_of_breath\n",
      "0.0     256101\n",
      "0        15883\n",
      "1.0       1065\n",
      "1          512\n",
      "None         1\n",
      "Name: shortness_of_breath, dtype: int64\n",
      "\n",
      "head_ache\n",
      "0.0     255101\n",
      "0        16046\n",
      "1.0       2065\n",
      "1          349\n",
      "None         1\n",
      "Name: head_ache, dtype: int64\n",
      "\n",
      "corona_result\n",
      "negative    260227\n",
      "positive      9443\n",
      "other         3892\n",
      "Name: corona_result, dtype: int64\n",
      "\n",
      "age_60_and_above\n",
      "None    125420\n",
      "No      122964\n",
      "Yes      25178\n",
      "Name: age_60_and_above, dtype: int64\n",
      "\n",
      "gender\n",
      "female    127895\n",
      "male      126481\n",
      "None       19186\n",
      "Name: gender, dtype: int64\n",
      "\n",
      "test_indication\n",
      "Other                     240492\n",
      "Abroad                     25062\n",
      "Contact with confirmed      8008\n",
      "Name: test_indication, dtype: int64\n",
      "\n"
     ]
    }
   ],
   "source": [
    "for col in df:\n",
    "    print(col)\n",
    "    print(df[col].value_counts()) ##Distribution in % of all the values of all columns in the dataset\n",
    "    print()"
   ]
  },
  {
   "cell_type": "code",
   "execution_count": 5,
   "metadata": {},
   "outputs": [
    {
     "name": "stdout",
     "output_type": "stream",
     "text": [
      "test_date\n",
      "20-04-2020    10786\n",
      "19-04-2020    10028\n",
      "22-04-2020     9530\n",
      "21-04-2020     9492\n",
      "16-04-2020     8999\n",
      "23-04-2020     8590\n",
      "01-04-2020     8476\n",
      "13-04-2020     8201\n",
      "02-04-2020     8004\n",
      "03-04-2020     7907\n",
      "17-04-2020     7546\n",
      "05-04-2020     7359\n",
      "27-04-2020     7200\n",
      "30-04-2020     7188\n",
      "15-04-2020     7034\n",
      "31-03-2020     6953\n",
      "24-04-2020     6912\n",
      "26-03-2020     6555\n",
      "14-04-2020     6410\n",
      "28-04-2020     6249\n",
      "18-04-2020     6209\n",
      "26-04-2020     6052\n",
      "27-03-2020     5846\n",
      "12-04-2020     5833\n",
      "07-04-2020     5748\n",
      "30-03-2020     5746\n",
      "10-04-2020     5561\n",
      "28-03-2020     5490\n",
      "25-03-2020     5415\n",
      "06-04-2020     5219\n",
      "29-03-2020     5161\n",
      "25-04-2020     4983\n",
      "04-04-2020     4949\n",
      "24-03-2020     4669\n",
      "09-04-2020     4452\n",
      "11-04-2020     4237\n",
      "29-04-2020     4210\n",
      "08-04-2020     3973\n",
      "22-03-2020     3524\n",
      "23-03-2020     3413\n",
      "19-03-2020     2213\n",
      "18-03-2020     1960\n",
      "20-03-2020     1842\n",
      "21-03-2020     1585\n",
      "17-03-2020     1441\n",
      "16-03-2020     1276\n",
      "15-03-2020      968\n",
      "13-03-2020      672\n",
      "12-03-2020      621\n",
      "14-03-2020      596\n",
      "11-03-2020      279\n",
      "Name: test_date, dtype: int64\n",
      "\n",
      "cough\n",
      "0       118370\n",
      "0.0     112712\n",
      "1        25875\n",
      "1.0      16353\n",
      "None       252\n",
      "Name: cough, dtype: int64\n",
      "\n",
      "fever\n",
      "0       130663\n",
      "0.0     120895\n",
      "1        13582\n",
      "1.0       8170\n",
      "None       252\n",
      "Name: fever, dtype: int64\n",
      "\n",
      "sore_throat\n",
      "0.0     255686\n",
      "0        15949\n",
      "1.0       1480\n",
      "1          446\n",
      "None         1\n",
      "Name: sore_throat, dtype: int64\n",
      "\n",
      "shortness_of_breath\n",
      "0.0     256101\n",
      "0        15883\n",
      "1.0       1065\n",
      "1          512\n",
      "None         1\n",
      "Name: shortness_of_breath, dtype: int64\n",
      "\n",
      "head_ache\n",
      "0.0     255101\n",
      "0        16046\n",
      "1.0       2065\n",
      "1          349\n",
      "None         1\n",
      "Name: head_ache, dtype: int64\n",
      "\n",
      "corona_result\n",
      "negative    260227\n",
      "positive      9443\n",
      "other         3892\n",
      "Name: corona_result, dtype: int64\n",
      "\n",
      "age_60_and_above\n",
      "None    125420\n",
      "No      122964\n",
      "Yes      25178\n",
      "Name: age_60_and_above, dtype: int64\n",
      "\n",
      "gender\n",
      "female    127895\n",
      "male      126481\n",
      "None       19186\n",
      "Name: gender, dtype: int64\n",
      "\n",
      "test_indication\n",
      "Other                     240492\n",
      "Abroad                     25062\n",
      "Contact with confirmed      8008\n",
      "Name: test_indication, dtype: int64\n",
      "\n"
     ]
    }
   ],
   "source": [
    "for col in df:\n",
    "    print(col)\n",
    "    print(df[col].value_counts()) ##Checking for no of values for each column \n",
    "    print()"
   ]
  },
  {
   "cell_type": "markdown",
   "metadata": {},
   "source": [
    "# EDA"
   ]
  },
  {
   "cell_type": "code",
   "execution_count": 6,
   "metadata": {},
   "outputs": [
    {
     "data": {
      "text/plain": [
       "test_date              5286\n",
       "cough                  5286\n",
       "fever                  5286\n",
       "sore_throat            5286\n",
       "shortness_of_breath    5286\n",
       "head_ache              5286\n",
       "corona_result          5286\n",
       "age_60_and_above       5286\n",
       "gender                 5286\n",
       "test_indication        5286\n",
       "dtype: int64"
      ]
     },
     "execution_count": 6,
     "metadata": {},
     "output_type": "execute_result"
    }
   ],
   "source": [
    "df.isna().sum() ##Checking for NULL value"
   ]
  },
  {
   "cell_type": "code",
   "execution_count": 7,
   "metadata": {},
   "outputs": [
    {
     "data": {
      "text/plain": [
       "(278848, 10)"
      ]
     },
     "execution_count": 7,
     "metadata": {},
     "output_type": "execute_result"
    }
   ],
   "source": [
    "df.shape ##No of rows and columns in the dataset"
   ]
  },
  {
   "cell_type": "code",
   "execution_count": 8,
   "metadata": {},
   "outputs": [
    {
     "data": {
      "text/plain": [
       "negative    0.93\n",
       "positive    0.03\n",
       "other       0.01\n",
       "Name: corona_result, dtype: float64"
      ]
     },
     "execution_count": 8,
     "metadata": {},
     "output_type": "execute_result"
    }
   ],
   "source": [
    "round((df['corona_result'].value_counts()/df.shape[0]),2) ##Distribution in % of target column values in the dataset"
   ]
  },
  {
   "cell_type": "code",
   "execution_count": 9,
   "metadata": {},
   "outputs": [
    {
     "data": {
      "text/plain": [
       "(278848, 10)"
      ]
     },
     "execution_count": 9,
     "metadata": {},
     "output_type": "execute_result"
    }
   ],
   "source": [
    "df.shape ##Total no. of rows and columns"
   ]
  },
  {
   "cell_type": "code",
   "execution_count": 10,
   "metadata": {},
   "outputs": [],
   "source": [
    "df = df.dropna() ##Dropping all the NULL values from the dataset"
   ]
  },
  {
   "cell_type": "code",
   "execution_count": 11,
   "metadata": {},
   "outputs": [
    {
     "data": {
      "text/plain": [
       "(273562, 10)"
      ]
     },
     "execution_count": 11,
     "metadata": {},
     "output_type": "execute_result"
    }
   ],
   "source": [
    "df.shape"
   ]
  },
  {
   "cell_type": "code",
   "execution_count": 12,
   "metadata": {},
   "outputs": [
    {
     "name": "stdout",
     "output_type": "stream",
     "text": [
      "test_date  :  ['30-04-2020' '29-04-2020' '28-04-2020' '27-04-2020' '26-04-2020'\n",
      " '25-04-2020' '24-04-2020' '23-04-2020' '22-04-2020' '21-04-2020'\n",
      " '20-04-2020' '19-04-2020' '18-04-2020' '17-04-2020' '16-04-2020'\n",
      " '15-04-2020' '14-04-2020' '13-04-2020' '12-04-2020' '11-04-2020'\n",
      " '10-04-2020' '09-04-2020' '08-04-2020' '07-04-2020' '06-04-2020'\n",
      " '05-04-2020' '04-04-2020' '03-04-2020' '02-04-2020' '01-04-2020'\n",
      " '31-03-2020' '30-03-2020' '29-03-2020' '28-03-2020' '27-03-2020'\n",
      " '26-03-2020' '25-03-2020' '24-03-2020' '23-03-2020' '22-03-2020'\n",
      " '21-03-2020' '20-03-2020' '19-03-2020' '18-03-2020' '17-03-2020'\n",
      " '16-03-2020' '15-03-2020' '14-03-2020' '13-03-2020' '12-03-2020'\n",
      " '11-03-2020']\n",
      "cough  :  [0.0 1.0 '0' '1' 'None']\n",
      "fever  :  [0.0 1.0 '0' '1' 'None']\n",
      "sore_throat  :  [0.0 1.0 '0' '1' 'None']\n",
      "shortness_of_breath  :  [0.0 1.0 '0' '1' 'None']\n",
      "head_ache  :  [0.0 1.0 '0' '1' 'None']\n",
      "corona_result  :  ['negative' 'positive' 'other']\n",
      "age_60_and_above  :  ['None' 'Yes' 'No']\n",
      "gender  :  ['female' 'male' 'None']\n",
      "test_indication  :  ['Other' 'Abroad' 'Contact with confirmed']\n"
     ]
    }
   ],
   "source": [
    "for col in df:\n",
    "    print(col,\" : \",df[col].unique()) ##Checking for all unique values"
   ]
  },
  {
   "cell_type": "code",
   "execution_count": 13,
   "metadata": {},
   "outputs": [
    {
     "name": "stdout",
     "output_type": "stream",
     "text": [
      "test_date  :  object\n",
      "cough  :  object\n",
      "fever  :  object\n",
      "sore_throat  :  object\n",
      "shortness_of_breath  :  object\n",
      "head_ache  :  object\n",
      "corona_result  :  object\n",
      "age_60_and_above  :  object\n",
      "gender  :  object\n",
      "test_indication  :  object\n"
     ]
    }
   ],
   "source": [
    "for col in df:\n",
    "    print(col,\" : \",df[col].dtype) ##Checking for datatype of all columns"
   ]
  },
  {
   "cell_type": "code",
   "execution_count": 14,
   "metadata": {},
   "outputs": [],
   "source": [
    "for col in df:\n",
    "    df.drop(df.index[df[col ] == 'None'], inplace = True) ##Dropping 'NONE' value from the dataset"
   ]
  },
  {
   "cell_type": "code",
   "execution_count": 15,
   "metadata": {},
   "outputs": [
    {
     "name": "stdout",
     "output_type": "stream",
     "text": [
      "test_date  :  24\n",
      "cough  :  4\n",
      "fever  :  4\n",
      "sore_throat  :  4\n",
      "shortness_of_breath  :  4\n",
      "head_ache  :  4\n",
      "corona_result  :  3\n",
      "age_60_and_above  :  2\n",
      "gender  :  2\n",
      "test_indication  :  3\n"
     ]
    }
   ],
   "source": [
    "for col in df:\n",
    "    print(col,\" : \",df[col].nunique()) #checking for no of unique values"
   ]
  },
  {
   "cell_type": "code",
   "execution_count": 16,
   "metadata": {},
   "outputs": [],
   "source": [
    "df.drop(df.index[df['corona_result' ] == 'other'], inplace = True) ##Dropping 'NONE' value from the target column"
   ]
  },
  {
   "cell_type": "code",
   "execution_count": 17,
   "metadata": {},
   "outputs": [],
   "source": [
    "df= df.drop('test_date',axis=1) ##Dropping 'test_date' as a column from the dataset"
   ]
  },
  {
   "cell_type": "code",
   "execution_count": 18,
   "metadata": {},
   "outputs": [
    {
     "name": "stdout",
     "output_type": "stream",
     "text": [
      "cough  :  4\n",
      "fever  :  4\n",
      "sore_throat  :  4\n",
      "shortness_of_breath  :  4\n",
      "head_ache  :  4\n",
      "corona_result  :  2\n",
      "age_60_and_above  :  2\n",
      "gender  :  2\n",
      "test_indication  :  3\n"
     ]
    }
   ],
   "source": [
    "for col in df:\n",
    "    print(col,\" : \",df[col].nunique())"
   ]
  },
  {
   "cell_type": "code",
   "execution_count": 19,
   "metadata": {},
   "outputs": [
    {
     "name": "stdout",
     "output_type": "stream",
     "text": [
      "cough  :  [1.0 0.0 '0' '1']\n",
      "fever  :  [0.0 1.0 '0' '1']\n",
      "sore_throat  :  [0.0 1.0 '0' '1']\n",
      "shortness_of_breath  :  [0.0 1.0 '0' '1']\n",
      "head_ache  :  [0.0 1.0 '0' '1']\n",
      "corona_result  :  ['negative' 'positive']\n",
      "age_60_and_above  :  ['Yes' 'No']\n",
      "gender  :  ['male' 'female']\n",
      "test_indication  :  ['Other' 'Abroad' 'Contact with confirmed']\n"
     ]
    }
   ],
   "source": [
    "for col in df:\n",
    "    print(col,\" : \",df[col].unique())"
   ]
  },
  {
   "cell_type": "code",
   "execution_count": 20,
   "metadata": {},
   "outputs": [
    {
     "name": "stdout",
     "output_type": "stream",
     "text": [
      "cough\n",
      "0      102034\n",
      "1       23263\n",
      "0.0      6250\n",
      "1.0      1588\n",
      "Name: cough, dtype: int64\n",
      "\n",
      "fever\n",
      "0      113335\n",
      "1       11962\n",
      "0.0      7139\n",
      "1.0       699\n",
      "Name: fever, dtype: int64\n",
      "\n",
      "sore_throat\n",
      "0.0    128840\n",
      "0        2822\n",
      "1.0      1430\n",
      "1          43\n",
      "Name: sore_throat, dtype: int64\n",
      "\n",
      "shortness_of_breath\n",
      "0.0    129243\n",
      "0        2831\n",
      "1.0      1027\n",
      "1          34\n",
      "Name: shortness_of_breath, dtype: int64\n",
      "\n",
      "head_ache\n",
      "0.0    128263\n",
      "0        2797\n",
      "1.0      2007\n",
      "1          68\n",
      "Name: head_ache, dtype: int64\n",
      "\n",
      "corona_result\n",
      "negative    125668\n",
      "positive      7467\n",
      "Name: corona_result, dtype: int64\n",
      "\n",
      "age_60_and_above\n",
      "No     110066\n",
      "Yes     23069\n",
      "Name: age_60_and_above, dtype: int64\n",
      "\n",
      "gender\n",
      "male      67426\n",
      "female    65709\n",
      "Name: gender, dtype: int64\n",
      "\n",
      "test_indication\n",
      "Other                     113080\n",
      "Abroad                     14275\n",
      "Contact with confirmed      5780\n",
      "Name: test_indication, dtype: int64\n",
      "\n"
     ]
    }
   ],
   "source": [
    "for col in df:\n",
    "    print(col)\n",
    "    print(df[col].value_counts())\n",
    "    print()"
   ]
  },
  {
   "cell_type": "code",
   "execution_count": 21,
   "metadata": {},
   "outputs": [],
   "source": [
    "##Changing from object to integer datatype\n",
    "df['cough']=df['cough'].astype(int)\n",
    "df['fever']=df['fever'].astype(int)\n",
    "df['sore_throat']=df['sore_throat'].astype(int)\n",
    "df['shortness_of_breath']=df['shortness_of_breath'].astype(int)\n",
    "df['head_ache']=df['head_ache'].astype(int)"
   ]
  },
  {
   "cell_type": "code",
   "execution_count": 22,
   "metadata": {},
   "outputs": [
    {
     "name": "stdout",
     "output_type": "stream",
     "text": [
      "cough  :  [1 0]\n",
      "fever  :  [0 1]\n",
      "sore_throat  :  [0 1]\n",
      "shortness_of_breath  :  [0 1]\n",
      "head_ache  :  [0 1]\n",
      "corona_result  :  ['negative' 'positive']\n",
      "age_60_and_above  :  ['Yes' 'No']\n",
      "gender  :  ['male' 'female']\n",
      "test_indication  :  ['Other' 'Abroad' 'Contact with confirmed']\n"
     ]
    }
   ],
   "source": [
    "for col in df:\n",
    "    print(col,\" : \",df[col].unique())"
   ]
  },
  {
   "cell_type": "code",
   "execution_count": 23,
   "metadata": {},
   "outputs": [
    {
     "name": "stdout",
     "output_type": "stream",
     "text": [
      "cough  :  int32\n",
      "fever  :  int32\n",
      "sore_throat  :  int32\n",
      "shortness_of_breath  :  int32\n",
      "head_ache  :  int32\n",
      "corona_result  :  object\n",
      "age_60_and_above  :  object\n",
      "gender  :  object\n",
      "test_indication  :  object\n"
     ]
    }
   ],
   "source": [
    "for col in df:\n",
    "    print(col,\" : \",df[col].dtype)"
   ]
  },
  {
   "cell_type": "code",
   "execution_count": 24,
   "metadata": {},
   "outputs": [
    {
     "name": "stdout",
     "output_type": "stream",
     "text": [
      "cough  :  2\n",
      "fever  :  2\n",
      "sore_throat  :  2\n",
      "shortness_of_breath  :  2\n",
      "head_ache  :  2\n",
      "corona_result  :  2\n",
      "age_60_and_above  :  2\n",
      "gender  :  2\n",
      "test_indication  :  3\n"
     ]
    }
   ],
   "source": [
    "for col in df:\n",
    "    print(col,\" : \",df[col].nunique())"
   ]
  },
  {
   "cell_type": "code",
   "execution_count": 25,
   "metadata": {},
   "outputs": [
    {
     "name": "stdout",
     "output_type": "stream",
     "text": [
      "cough\n",
      "0    108284\n",
      "1     24851\n",
      "Name: cough, dtype: int64\n",
      "\n",
      "fever\n",
      "0    120474\n",
      "1     12661\n",
      "Name: fever, dtype: int64\n",
      "\n",
      "sore_throat\n",
      "0    131662\n",
      "1      1473\n",
      "Name: sore_throat, dtype: int64\n",
      "\n",
      "shortness_of_breath\n",
      "0    132074\n",
      "1      1061\n",
      "Name: shortness_of_breath, dtype: int64\n",
      "\n",
      "head_ache\n",
      "0    131060\n",
      "1      2075\n",
      "Name: head_ache, dtype: int64\n",
      "\n",
      "corona_result\n",
      "negative    125668\n",
      "positive      7467\n",
      "Name: corona_result, dtype: int64\n",
      "\n",
      "age_60_and_above\n",
      "No     110066\n",
      "Yes     23069\n",
      "Name: age_60_and_above, dtype: int64\n",
      "\n",
      "gender\n",
      "male      67426\n",
      "female    65709\n",
      "Name: gender, dtype: int64\n",
      "\n",
      "test_indication\n",
      "Other                     113080\n",
      "Abroad                     14275\n",
      "Contact with confirmed      5780\n",
      "Name: test_indication, dtype: int64\n",
      "\n"
     ]
    }
   ],
   "source": [
    "for col in df:\n",
    "    print(col)\n",
    "    print(df[col].value_counts())\n",
    "    print()"
   ]
  },
  {
   "cell_type": "code",
   "execution_count": 26,
   "metadata": {},
   "outputs": [],
   "source": [
    "##Dropping records with 'corona_result'= \"positive\", 'cough'= 1 & others 0\n",
    "df.drop(df[(df['corona_result'] ==\"positive\") & (df['cough'] ==1) & (df['fever'] ==0) & \n",
    "           (df['sore_throat'] ==0) & (df['shortness_of_breath'] ==0) & (df['head_ache'] == 0  )].index, inplace = True)"
   ]
  },
  {
   "cell_type": "code",
   "execution_count": 27,
   "metadata": {},
   "outputs": [
    {
     "data": {
      "text/plain": [
       "(131651, 9)"
      ]
     },
     "execution_count": 27,
     "metadata": {},
     "output_type": "execute_result"
    }
   ],
   "source": [
    "df.shape"
   ]
  },
  {
   "cell_type": "code",
   "execution_count": 28,
   "metadata": {},
   "outputs": [],
   "source": [
    "##Dropping records with 'corona_result'= \"positive\", 'fever'= 1 & others 0\n",
    "df.drop(df[(df['corona_result'] ==\"positive\") & (df['cough'] ==0) & (df['fever'] ==1) & \n",
    "           (df['sore_throat'] ==0) & (df['shortness_of_breath'] ==0) & (df['head_ache'] == 0  )].index, inplace = True)"
   ]
  },
  {
   "cell_type": "code",
   "execution_count": 29,
   "metadata": {},
   "outputs": [
    {
     "data": {
      "text/plain": [
       "(130577, 9)"
      ]
     },
     "execution_count": 29,
     "metadata": {},
     "output_type": "execute_result"
    }
   ],
   "source": [
    "df.shape"
   ]
  },
  {
   "cell_type": "code",
   "execution_count": 30,
   "metadata": {},
   "outputs": [],
   "source": [
    "##Dropping records with 'corona_result'= \"positive\", 'sore_throat'= 1 & others 0\n",
    "df.drop(df[(df['corona_result'] ==\"positive\") & (df['cough'] ==0) & (df['fever'] ==0) & \n",
    "           (df['sore_throat'] ==1) & (df['shortness_of_breath'] ==0) & (df['head_ache'] == 0  )].index, inplace = True)"
   ]
  },
  {
   "cell_type": "code",
   "execution_count": 31,
   "metadata": {},
   "outputs": [
    {
     "data": {
      "text/plain": [
       "(130399, 9)"
      ]
     },
     "execution_count": 31,
     "metadata": {},
     "output_type": "execute_result"
    }
   ],
   "source": [
    "df.shape"
   ]
  },
  {
   "cell_type": "code",
   "execution_count": 32,
   "metadata": {},
   "outputs": [],
   "source": [
    "##Dropping records with 'corona_result'= \"positive\", 'shortness_of_breath'= 1 & others 0\n",
    "df.drop(df[(df['corona_result'] ==\"positive\") & (df['cough'] ==0) & (df['fever'] ==0) & \n",
    "           (df['sore_throat'] ==0) & (df['shortness_of_breath'] ==1) & (df['head_ache'] == 0  )].index, inplace = True)"
   ]
  },
  {
   "cell_type": "code",
   "execution_count": 33,
   "metadata": {},
   "outputs": [
    {
     "data": {
      "text/plain": [
       "(130285, 9)"
      ]
     },
     "execution_count": 33,
     "metadata": {},
     "output_type": "execute_result"
    }
   ],
   "source": [
    "df.shape"
   ]
  },
  {
   "cell_type": "code",
   "execution_count": 34,
   "metadata": {},
   "outputs": [],
   "source": [
    "##Dropping records with 'corona_result'= \"positive\", 'head_ache'= 1 & others 0\n",
    "df=df.drop(df[(df['corona_result'] ==\"positive\") & (df['cough'] ==0) & (df['fever'] ==0) & \n",
    "              (df['sore_throat'] ==0) & (df['shortness_of_breath'] ==0) & (df['head_ache'] == 1 )].index, inplace = False)"
   ]
  },
  {
   "cell_type": "code",
   "execution_count": 35,
   "metadata": {},
   "outputs": [
    {
     "data": {
      "text/plain": [
       "(129983, 9)"
      ]
     },
     "execution_count": 35,
     "metadata": {},
     "output_type": "execute_result"
    }
   ],
   "source": [
    "df.shape"
   ]
  },
  {
   "cell_type": "code",
   "execution_count": 36,
   "metadata": {},
   "outputs": [
    {
     "name": "stdout",
     "output_type": "stream",
     "text": [
      "value_counts\n",
      "\n",
      "cough\n",
      "0    106616\n",
      "1     23367\n",
      "Name: cough, dtype: int64\n",
      "nunique\n",
      "\n",
      "cough  :  2\n",
      "dtype\n",
      "\n",
      "cough  :  int32\n",
      "\n",
      "value_counts\n",
      "\n",
      "fever\n",
      "0    118396\n",
      "1     11587\n",
      "Name: fever, dtype: int64\n",
      "nunique\n",
      "\n",
      "fever  :  2\n",
      "dtype\n",
      "\n",
      "fever  :  int32\n",
      "\n",
      "value_counts\n",
      "\n",
      "sore_throat\n",
      "0    128688\n",
      "1      1295\n",
      "Name: sore_throat, dtype: int64\n",
      "nunique\n",
      "\n",
      "sore_throat  :  2\n",
      "dtype\n",
      "\n",
      "sore_throat  :  int32\n",
      "\n",
      "value_counts\n",
      "\n",
      "shortness_of_breath\n",
      "0    129036\n",
      "1       947\n",
      "Name: shortness_of_breath, dtype: int64\n",
      "nunique\n",
      "\n",
      "shortness_of_breath  :  2\n",
      "dtype\n",
      "\n",
      "shortness_of_breath  :  int32\n",
      "\n",
      "value_counts\n",
      "\n",
      "head_ache\n",
      "0    128210\n",
      "1      1773\n",
      "Name: head_ache, dtype: int64\n",
      "nunique\n",
      "\n",
      "head_ache  :  2\n",
      "dtype\n",
      "\n",
      "head_ache  :  int32\n",
      "\n",
      "value_counts\n",
      "\n",
      "corona_result\n",
      "negative    125668\n",
      "positive      4315\n",
      "Name: corona_result, dtype: int64\n",
      "nunique\n",
      "\n",
      "corona_result  :  2\n",
      "dtype\n",
      "\n",
      "corona_result  :  object\n",
      "\n",
      "value_counts\n",
      "\n",
      "age_60_and_above\n",
      "No     107516\n",
      "Yes     22467\n",
      "Name: age_60_and_above, dtype: int64\n",
      "nunique\n",
      "\n",
      "age_60_and_above  :  2\n",
      "dtype\n",
      "\n",
      "age_60_and_above  :  object\n",
      "\n",
      "value_counts\n",
      "\n",
      "gender\n",
      "male      65659\n",
      "female    64324\n",
      "Name: gender, dtype: int64\n",
      "nunique\n",
      "\n",
      "gender  :  2\n",
      "dtype\n",
      "\n",
      "gender  :  object\n",
      "\n",
      "value_counts\n",
      "\n",
      "test_indication\n",
      "Other                     112014\n",
      "Abroad                     13782\n",
      "Contact with confirmed      4187\n",
      "Name: test_indication, dtype: int64\n",
      "nunique\n",
      "\n",
      "test_indication  :  3\n",
      "dtype\n",
      "\n",
      "test_indication  :  object\n",
      "\n"
     ]
    }
   ],
   "source": [
    "for col in df:\n",
    "    print('value_counts')\n",
    "    print()\n",
    "    print(col)\n",
    "    print(df[col].value_counts())\n",
    "    print('nunique')\n",
    "    print()\n",
    "    print(col,\" : \",df[col].nunique())\n",
    "    print('dtype')\n",
    "    print()\n",
    "    print(col,\" : \",df[col].dtype)\n",
    "    print()"
   ]
  },
  {
   "cell_type": "code",
   "execution_count": 37,
   "metadata": {},
   "outputs": [
    {
     "name": "stdout",
     "output_type": "stream",
     "text": [
      "cough\n",
      "0    0.82023\n",
      "1    0.17977\n",
      "Name: cough, dtype: float64\n",
      "\n",
      "fever\n",
      "0    0.910858\n",
      "1    0.089142\n",
      "Name: fever, dtype: float64\n",
      "\n",
      "sore_throat\n",
      "0    0.990037\n",
      "1    0.009963\n",
      "Name: sore_throat, dtype: float64\n",
      "\n",
      "shortness_of_breath\n",
      "0    0.992714\n",
      "1    0.007286\n",
      "Name: shortness_of_breath, dtype: float64\n",
      "\n",
      "head_ache\n",
      "0    0.98636\n",
      "1    0.01364\n",
      "Name: head_ache, dtype: float64\n",
      "\n",
      "corona_result\n",
      "negative    0.966803\n",
      "positive    0.033197\n",
      "Name: corona_result, dtype: float64\n",
      "\n",
      "age_60_and_above\n",
      "No     0.827154\n",
      "Yes    0.172846\n",
      "Name: age_60_and_above, dtype: float64\n",
      "\n",
      "gender\n",
      "male      0.505135\n",
      "female    0.494865\n",
      "Name: gender, dtype: float64\n",
      "\n",
      "test_indication\n",
      "Other                     0.861759\n",
      "Abroad                    0.106029\n",
      "Contact with confirmed    0.032212\n",
      "Name: test_indication, dtype: float64\n",
      "\n"
     ]
    }
   ],
   "source": [
    "for col in df:\n",
    "    print(col)\n",
    "    print(df[col].value_counts()/df.shape[0])\n",
    "    print()"
   ]
  },
  {
   "cell_type": "markdown",
   "metadata": {},
   "source": [
    "## Analyzing target column"
   ]
  },
  {
   "cell_type": "code",
   "execution_count": 38,
   "metadata": {},
   "outputs": [
    {
     "data": {
      "text/plain": [
       "<AxesSubplot:xlabel='corona_result', ylabel='count'>"
      ]
     },
     "execution_count": 38,
     "metadata": {},
     "output_type": "execute_result"
    },
    {
     "data": {
      "image/png": "[encoded data removed]",
      "text/plain": [
       "<Figure size 432x288 with 1 Axes>"
      ]
     },
     "metadata": {
      "needs_background": "light"
     },
     "output_type": "display_data"
    }
   ],
   "source": [
    "sns.countplot(x=\"corona_result\",data=df) "
   ]
  },
  {
   "cell_type": "markdown",
   "metadata": {},
   "source": [
    "## Analyzing target column with categorical columns"
   ]
  },
  {
   "cell_type": "code",
   "execution_count": 39,
   "metadata": {},
   "outputs": [
    {
     "data": {
      "text/plain": [
       "<AxesSubplot:xlabel='cough', ylabel='count'>"
      ]
     },
     "execution_count": 39,
     "metadata": {},
     "output_type": "execute_result"
    },
    {
     "data": {
      "image/png": "[encoded data removed]",
      "text/plain": [
       "<Figure size 432x288 with 1 Axes>"
      ]
     },
     "metadata": {
      "needs_background": "light"
     },
     "output_type": "display_data"
    }
   ],
   "source": [
    "sns.countplot(x=\"cough\",hue=\"corona_result\",data=df)"
   ]
  },
  {
   "cell_type": "code",
   "execution_count": 40,
   "metadata": {},
   "outputs": [
    {
     "data": {
      "text/html": [
       "<div>\n",
       "<style scoped>\n",
       "    .dataframe tbody tr th:only-of-type {\n",
       "        vertical-align: middle;\n",
       "    }\n",
       "\n",
       "    .dataframe tbody tr th {\n",
       "        vertical-align: top;\n",
       "    }\n",
       "\n",
       "    .dataframe thead th {\n",
       "        text-align: right;\n",
       "    }\n",
       "</style>\n",
       "<table border=\"1\" class=\"dataframe\">\n",
       "  <thead>\n",
       "    <tr style=\"text-align: right;\">\n",
       "      <th>cough</th>\n",
       "      <th>0</th>\n",
       "      <th>1</th>\n",
       "    </tr>\n",
       "    <tr>\n",
       "      <th>corona_result</th>\n",
       "      <th></th>\n",
       "      <th></th>\n",
       "    </tr>\n",
       "  </thead>\n",
       "  <tbody>\n",
       "    <tr>\n",
       "      <th>negative</th>\n",
       "      <td>0.842649</td>\n",
       "      <td>0.157351</td>\n",
       "    </tr>\n",
       "    <tr>\n",
       "      <th>positive</th>\n",
       "      <td>0.167323</td>\n",
       "      <td>0.832677</td>\n",
       "    </tr>\n",
       "  </tbody>\n",
       "</table>\n",
       "</div>"
      ],
      "text/plain": [
       "cough                 0         1\n",
       "corona_result                    \n",
       "negative       0.842649  0.157351\n",
       "positive       0.167323  0.832677"
      ]
     },
     "execution_count": 40,
     "metadata": {},
     "output_type": "execute_result"
    }
   ],
   "source": [
    "pd.crosstab(index=df[\"corona_result\"], columns=df[\"cough\"], normalize=\"index\" )"
   ]
  },
  {
   "cell_type": "code",
   "execution_count": 41,
   "metadata": {},
   "outputs": [
    {
     "data": {
      "text/plain": [
       "<AxesSubplot:xlabel='fever', ylabel='count'>"
      ]
     },
     "execution_count": 41,
     "metadata": {},
     "output_type": "execute_result"
    },
    {
     "data": {
      "image/png": "[encoded data removed]",
      "text/plain": [
       "<Figure size 432x288 with 1 Axes>"
      ]
     },
     "metadata": {
      "needs_background": "light"
     },
     "output_type": "display_data"
    }
   ],
   "source": [
    "sns.countplot(x=\"fever\",hue=\"corona_result\",data=df)"
   ]
  },
  {
   "cell_type": "code",
   "execution_count": 42,
   "metadata": {},
   "outputs": [
    {
     "data": {
      "text/html": [
       "<div>\n",
       "<style scoped>\n",
       "    .dataframe tbody tr th:only-of-type {\n",
       "        vertical-align: middle;\n",
       "    }\n",
       "\n",
       "    .dataframe tbody tr th {\n",
       "        vertical-align: top;\n",
       "    }\n",
       "\n",
       "    .dataframe thead th {\n",
       "        text-align: right;\n",
       "    }\n",
       "</style>\n",
       "<table border=\"1\" class=\"dataframe\">\n",
       "  <thead>\n",
       "    <tr style=\"text-align: right;\">\n",
       "      <th>fever</th>\n",
       "      <th>0</th>\n",
       "      <th>1</th>\n",
       "    </tr>\n",
       "    <tr>\n",
       "      <th>corona_result</th>\n",
       "      <th></th>\n",
       "      <th></th>\n",
       "    </tr>\n",
       "  </thead>\n",
       "  <tbody>\n",
       "    <tr>\n",
       "      <th>negative</th>\n",
       "      <td>0.934653</td>\n",
       "      <td>0.065347</td>\n",
       "    </tr>\n",
       "    <tr>\n",
       "      <th>positive</th>\n",
       "      <td>0.217845</td>\n",
       "      <td>0.782155</td>\n",
       "    </tr>\n",
       "  </tbody>\n",
       "</table>\n",
       "</div>"
      ],
      "text/plain": [
       "fever                 0         1\n",
       "corona_result                    \n",
       "negative       0.934653  0.065347\n",
       "positive       0.217845  0.782155"
      ]
     },
     "execution_count": 42,
     "metadata": {},
     "output_type": "execute_result"
    }
   ],
   "source": [
    "pd.crosstab(index=df[\"corona_result\"], columns=df[\"fever\"], normalize=\"index\" )"
   ]
  },
  {
   "cell_type": "code",
   "execution_count": 43,
   "metadata": {},
   "outputs": [
    {
     "data": {
      "text/plain": [
       "<AxesSubplot:xlabel='sore_throat', ylabel='count'>"
      ]
     },
     "execution_count": 43,
     "metadata": {},
     "output_type": "execute_result"
    },
    {
     "data": {
      "image/png": "[encoded data removed]",
      "text/plain": [
       "<Figure size 432x288 with 1 Axes>"
      ]
     },
     "metadata": {
      "needs_background": "light"
     },
     "output_type": "display_data"
    }
   ],
   "source": [
    "sns.countplot(x=\"sore_throat\",hue=\"corona_result\",data=df)"
   ]
  },
  {
   "cell_type": "code",
   "execution_count": 44,
   "metadata": {},
   "outputs": [
    {
     "data": {
      "text/html": [
       "<div>\n",
       "<style scoped>\n",
       "    .dataframe tbody tr th:only-of-type {\n",
       "        vertical-align: middle;\n",
       "    }\n",
       "\n",
       "    .dataframe tbody tr th {\n",
       "        vertical-align: top;\n",
       "    }\n",
       "\n",
       "    .dataframe thead th {\n",
       "        text-align: right;\n",
       "    }\n",
       "</style>\n",
       "<table border=\"1\" class=\"dataframe\">\n",
       "  <thead>\n",
       "    <tr style=\"text-align: right;\">\n",
       "      <th>sore_throat</th>\n",
       "      <th>0</th>\n",
       "      <th>1</th>\n",
       "    </tr>\n",
       "    <tr>\n",
       "      <th>corona_result</th>\n",
       "      <th></th>\n",
       "      <th></th>\n",
       "    </tr>\n",
       "  </thead>\n",
       "  <tbody>\n",
       "    <tr>\n",
       "      <th>negative</th>\n",
       "      <td>0.999069</td>\n",
       "      <td>0.000931</td>\n",
       "    </tr>\n",
       "    <tr>\n",
       "      <th>positive</th>\n",
       "      <td>0.726999</td>\n",
       "      <td>0.273001</td>\n",
       "    </tr>\n",
       "  </tbody>\n",
       "</table>\n",
       "</div>"
      ],
      "text/plain": [
       "sore_throat           0         1\n",
       "corona_result                    \n",
       "negative       0.999069  0.000931\n",
       "positive       0.726999  0.273001"
      ]
     },
     "execution_count": 44,
     "metadata": {},
     "output_type": "execute_result"
    }
   ],
   "source": [
    "pd.crosstab(index=df[\"corona_result\"], columns=df[\"sore_throat\"], normalize=\"index\" )"
   ]
  },
  {
   "cell_type": "code",
   "execution_count": 45,
   "metadata": {},
   "outputs": [
    {
     "data": {
      "text/plain": [
       "<AxesSubplot:xlabel='shortness_of_breath', ylabel='count'>"
      ]
     },
     "execution_count": 45,
     "metadata": {},
     "output_type": "execute_result"
    },
    {
     "data": {
      "image/png": "[encoded data removed]",
      "text/plain": [
       "<Figure size 432x288 with 1 Axes>"
      ]
     },
     "metadata": {
      "needs_background": "light"
     },
     "output_type": "display_data"
    }
   ],
   "source": [
    "sns.countplot(x=\"shortness_of_breath\",hue=\"corona_result\",data=df)"
   ]
  },
  {
   "cell_type": "code",
   "execution_count": 46,
   "metadata": {},
   "outputs": [
    {
     "data": {
      "text/html": [
       "<div>\n",
       "<style scoped>\n",
       "    .dataframe tbody tr th:only-of-type {\n",
       "        vertical-align: middle;\n",
       "    }\n",
       "\n",
       "    .dataframe tbody tr th {\n",
       "        vertical-align: top;\n",
       "    }\n",
       "\n",
       "    .dataframe thead th {\n",
       "        text-align: right;\n",
       "    }\n",
       "</style>\n",
       "<table border=\"1\" class=\"dataframe\">\n",
       "  <thead>\n",
       "    <tr style=\"text-align: right;\">\n",
       "      <th>shortness_of_breath</th>\n",
       "      <th>0</th>\n",
       "      <th>1</th>\n",
       "    </tr>\n",
       "    <tr>\n",
       "      <th>corona_result</th>\n",
       "      <th></th>\n",
       "      <th></th>\n",
       "    </tr>\n",
       "  </thead>\n",
       "  <tbody>\n",
       "    <tr>\n",
       "      <th>negative</th>\n",
       "      <td>0.999316</td>\n",
       "      <td>0.000684</td>\n",
       "    </tr>\n",
       "    <tr>\n",
       "      <th>positive</th>\n",
       "      <td>0.800463</td>\n",
       "      <td>0.199537</td>\n",
       "    </tr>\n",
       "  </tbody>\n",
       "</table>\n",
       "</div>"
      ],
      "text/plain": [
       "shortness_of_breath         0         1\n",
       "corona_result                          \n",
       "negative             0.999316  0.000684\n",
       "positive             0.800463  0.199537"
      ]
     },
     "execution_count": 46,
     "metadata": {},
     "output_type": "execute_result"
    }
   ],
   "source": [
    "pd.crosstab(index=df[\"corona_result\"], columns=df[\"shortness_of_breath\"], normalize=\"index\" )"
   ]
  },
  {
   "cell_type": "code",
   "execution_count": 47,
   "metadata": {},
   "outputs": [
    {
     "data": {
      "text/plain": [
       "<AxesSubplot:xlabel='head_ache', ylabel='count'>"
      ]
     },
     "execution_count": 47,
     "metadata": {},
     "output_type": "execute_result"
    },
    {
     "data": {
      "image/png": "[encoded data removed]",
      "text/plain": [
       "<Figure size 432x288 with 1 Axes>"
      ]
     },
     "metadata": {
      "needs_background": "light"
     },
     "output_type": "display_data"
    }
   ],
   "source": [
    "sns.countplot(x=\"head_ache\",hue=\"corona_result\",data=df)"
   ]
  },
  {
   "cell_type": "code",
   "execution_count": 48,
   "metadata": {},
   "outputs": [
    {
     "data": {
      "text/html": [
       "<div>\n",
       "<style scoped>\n",
       "    .dataframe tbody tr th:only-of-type {\n",
       "        vertical-align: middle;\n",
       "    }\n",
       "\n",
       "    .dataframe tbody tr th {\n",
       "        vertical-align: top;\n",
       "    }\n",
       "\n",
       "    .dataframe thead th {\n",
       "        text-align: right;\n",
       "    }\n",
       "</style>\n",
       "<table border=\"1\" class=\"dataframe\">\n",
       "  <thead>\n",
       "    <tr style=\"text-align: right;\">\n",
       "      <th>head_ache</th>\n",
       "      <th>0</th>\n",
       "      <th>1</th>\n",
       "    </tr>\n",
       "    <tr>\n",
       "      <th>corona_result</th>\n",
       "      <th></th>\n",
       "      <th></th>\n",
       "    </tr>\n",
       "  </thead>\n",
       "  <tbody>\n",
       "    <tr>\n",
       "      <th>negative</th>\n",
       "      <td>0.999355</td>\n",
       "      <td>0.000645</td>\n",
       "    </tr>\n",
       "    <tr>\n",
       "      <th>positive</th>\n",
       "      <td>0.607879</td>\n",
       "      <td>0.392121</td>\n",
       "    </tr>\n",
       "  </tbody>\n",
       "</table>\n",
       "</div>"
      ],
      "text/plain": [
       "head_ache             0         1\n",
       "corona_result                    \n",
       "negative       0.999355  0.000645\n",
       "positive       0.607879  0.392121"
      ]
     },
     "execution_count": 48,
     "metadata": {},
     "output_type": "execute_result"
    }
   ],
   "source": [
    "pd.crosstab(index=df[\"corona_result\"], columns=df[\"head_ache\"], normalize=\"index\" )"
   ]
  },
  {
   "cell_type": "code",
   "execution_count": 49,
   "metadata": {},
   "outputs": [
    {
     "data": {
      "text/plain": [
       "<AxesSubplot:xlabel='age_60_and_above', ylabel='count'>"
      ]
     },
     "execution_count": 49,
     "metadata": {},
     "output_type": "execute_result"
    },
    {
     "data": {
      "image/png": "[encoded data removed]",
      "text/plain": [
       "<Figure size 432x288 with 1 Axes>"
      ]
     },
     "metadata": {
      "needs_background": "light"
     },
     "output_type": "display_data"
    }
   ],
   "source": [
    "sns.countplot(x=\"age_60_and_above\",hue=\"corona_result\",data=df)"
   ]
  },
  {
   "cell_type": "code",
   "execution_count": 50,
   "metadata": {},
   "outputs": [
    {
     "data": {
      "text/html": [
       "<div>\n",
       "<style scoped>\n",
       "    .dataframe tbody tr th:only-of-type {\n",
       "        vertical-align: middle;\n",
       "    }\n",
       "\n",
       "    .dataframe tbody tr th {\n",
       "        vertical-align: top;\n",
       "    }\n",
       "\n",
       "    .dataframe thead th {\n",
       "        text-align: right;\n",
       "    }\n",
       "</style>\n",
       "<table border=\"1\" class=\"dataframe\">\n",
       "  <thead>\n",
       "    <tr style=\"text-align: right;\">\n",
       "      <th>age_60_and_above</th>\n",
       "      <th>No</th>\n",
       "      <th>Yes</th>\n",
       "    </tr>\n",
       "    <tr>\n",
       "      <th>corona_result</th>\n",
       "      <th></th>\n",
       "      <th></th>\n",
       "    </tr>\n",
       "  </thead>\n",
       "  <tbody>\n",
       "    <tr>\n",
       "      <th>negative</th>\n",
       "      <td>0.827737</td>\n",
       "      <td>0.172263</td>\n",
       "    </tr>\n",
       "    <tr>\n",
       "      <th>positive</th>\n",
       "      <td>0.810197</td>\n",
       "      <td>0.189803</td>\n",
       "    </tr>\n",
       "  </tbody>\n",
       "</table>\n",
       "</div>"
      ],
      "text/plain": [
       "age_60_and_above        No       Yes\n",
       "corona_result                       \n",
       "negative          0.827737  0.172263\n",
       "positive          0.810197  0.189803"
      ]
     },
     "execution_count": 50,
     "metadata": {},
     "output_type": "execute_result"
    }
   ],
   "source": [
    "pd.crosstab(index=df[\"corona_result\"], columns=df[\"age_60_and_above\"], normalize=\"index\" )"
   ]
  },
  {
   "cell_type": "code",
   "execution_count": 51,
   "metadata": {},
   "outputs": [
    {
     "data": {
      "text/plain": [
       "<AxesSubplot:xlabel='gender', ylabel='count'>"
      ]
     },
     "execution_count": 51,
     "metadata": {},
     "output_type": "execute_result"
    },
    {
     "data": {
      "image/png": "[encoded data removed]",
      "text/plain": [
       "<Figure size 432x288 with 1 Axes>"
      ]
     },
     "metadata": {
      "needs_background": "light"
     },
     "output_type": "display_data"
    }
   ],
   "source": [
    "sns.countplot(x=\"gender\",hue=\"corona_result\",data=df)"
   ]
  },
  {
   "cell_type": "code",
   "execution_count": 52,
   "metadata": {},
   "outputs": [
    {
     "data": {
      "text/html": [
       "<div>\n",
       "<style scoped>\n",
       "    .dataframe tbody tr th:only-of-type {\n",
       "        vertical-align: middle;\n",
       "    }\n",
       "\n",
       "    .dataframe tbody tr th {\n",
       "        vertical-align: top;\n",
       "    }\n",
       "\n",
       "    .dataframe thead th {\n",
       "        text-align: right;\n",
       "    }\n",
       "</style>\n",
       "<table border=\"1\" class=\"dataframe\">\n",
       "  <thead>\n",
       "    <tr style=\"text-align: right;\">\n",
       "      <th>gender</th>\n",
       "      <th>female</th>\n",
       "      <th>male</th>\n",
       "    </tr>\n",
       "    <tr>\n",
       "      <th>corona_result</th>\n",
       "      <th></th>\n",
       "      <th></th>\n",
       "    </tr>\n",
       "  </thead>\n",
       "  <tbody>\n",
       "    <tr>\n",
       "      <th>negative</th>\n",
       "      <td>0.497565</td>\n",
       "      <td>0.502435</td>\n",
       "    </tr>\n",
       "    <tr>\n",
       "      <th>positive</th>\n",
       "      <td>0.416222</td>\n",
       "      <td>0.583778</td>\n",
       "    </tr>\n",
       "  </tbody>\n",
       "</table>\n",
       "</div>"
      ],
      "text/plain": [
       "gender           female      male\n",
       "corona_result                    \n",
       "negative       0.497565  0.502435\n",
       "positive       0.416222  0.583778"
      ]
     },
     "execution_count": 52,
     "metadata": {},
     "output_type": "execute_result"
    }
   ],
   "source": [
    "pd.crosstab(index=df[\"corona_result\"], columns=df[\"gender\"], normalize=\"index\" )"
   ]
  },
  {
   "cell_type": "code",
   "execution_count": 53,
   "metadata": {},
   "outputs": [
    {
     "data": {
      "text/plain": [
       "<AxesSubplot:xlabel='test_indication', ylabel='count'>"
      ]
     },
     "execution_count": 53,
     "metadata": {},
     "output_type": "execute_result"
    },
    {
     "data": {
      "image/png": "[encoded data removed]",
      "text/plain": [
       "<Figure size 432x288 with 1 Axes>"
      ]
     },
     "metadata": {
      "needs_background": "light"
     },
     "output_type": "display_data"
    }
   ],
   "source": [
    "sns.countplot(x=\"test_indication\",hue=\"corona_result\",data=df)"
   ]
  },
  {
   "cell_type": "code",
   "execution_count": 54,
   "metadata": {},
   "outputs": [
    {
     "data": {
      "text/html": [
       "<div>\n",
       "<style scoped>\n",
       "    .dataframe tbody tr th:only-of-type {\n",
       "        vertical-align: middle;\n",
       "    }\n",
       "\n",
       "    .dataframe tbody tr th {\n",
       "        vertical-align: top;\n",
       "    }\n",
       "\n",
       "    .dataframe thead th {\n",
       "        text-align: right;\n",
       "    }\n",
       "</style>\n",
       "<table border=\"1\" class=\"dataframe\">\n",
       "  <thead>\n",
       "    <tr style=\"text-align: right;\">\n",
       "      <th>test_indication</th>\n",
       "      <th>Abroad</th>\n",
       "      <th>Contact with confirmed</th>\n",
       "      <th>Other</th>\n",
       "    </tr>\n",
       "    <tr>\n",
       "      <th>corona_result</th>\n",
       "      <th></th>\n",
       "      <th></th>\n",
       "      <th></th>\n",
       "    </tr>\n",
       "  </thead>\n",
       "  <tbody>\n",
       "    <tr>\n",
       "      <th>negative</th>\n",
       "      <td>0.104919</td>\n",
       "      <td>0.017785</td>\n",
       "      <td>0.877296</td>\n",
       "    </tr>\n",
       "    <tr>\n",
       "      <th>positive</th>\n",
       "      <td>0.138355</td>\n",
       "      <td>0.452375</td>\n",
       "      <td>0.409270</td>\n",
       "    </tr>\n",
       "  </tbody>\n",
       "</table>\n",
       "</div>"
      ],
      "text/plain": [
       "test_indication    Abroad  Contact with confirmed     Other\n",
       "corona_result                                              \n",
       "negative         0.104919                0.017785  0.877296\n",
       "positive         0.138355                0.452375  0.409270"
      ]
     },
     "execution_count": 54,
     "metadata": {},
     "output_type": "execute_result"
    }
   ],
   "source": [
    "pd.crosstab(index=df[\"corona_result\"], columns=df[\"test_indication\"], normalize=\"index\" )"
   ]
  },
  {
   "cell_type": "markdown",
   "metadata": {},
   "source": [
    "# Performing OHE"
   ]
  },
  {
   "cell_type": "code",
   "execution_count": 55,
   "metadata": {},
   "outputs": [],
   "source": [
    "catcols=list(df.select_dtypes(include=\"object\").columns)\n",
    "xdfohe=pd.get_dummies(df,columns=catcols,drop_first=True)\n",
    "xdfohe=xdfohe.rename({'test_indication_Contact with confirmed':'test_indication_Contact_with_confirmed'},axis=1)"
   ]
  },
  {
   "cell_type": "code",
   "execution_count": 56,
   "metadata": {},
   "outputs": [
    {
     "data": {
      "text/plain": [
       "(129983, 10)"
      ]
     },
     "execution_count": 56,
     "metadata": {},
     "output_type": "execute_result"
    }
   ],
   "source": [
    "xdfohe.shape"
   ]
  },
  {
   "cell_type": "code",
   "execution_count": 57,
   "metadata": {},
   "outputs": [
    {
     "data": {
      "text/html": [
       "<div>\n",
       "<style scoped>\n",
       "    .dataframe tbody tr th:only-of-type {\n",
       "        vertical-align: middle;\n",
       "    }\n",
       "\n",
       "    .dataframe tbody tr th {\n",
       "        vertical-align: top;\n",
       "    }\n",
       "\n",
       "    .dataframe thead th {\n",
       "        text-align: right;\n",
       "    }\n",
       "</style>\n",
       "<table border=\"1\" class=\"dataframe\">\n",
       "  <thead>\n",
       "    <tr style=\"text-align: right;\">\n",
       "      <th></th>\n",
       "      <th>cough</th>\n",
       "      <th>fever</th>\n",
       "      <th>sore_throat</th>\n",
       "      <th>shortness_of_breath</th>\n",
       "      <th>head_ache</th>\n",
       "      <th>corona_result_positive</th>\n",
       "      <th>age_60_and_above_Yes</th>\n",
       "      <th>gender_male</th>\n",
       "      <th>test_indication_Contact_with_confirmed</th>\n",
       "      <th>test_indication_Other</th>\n",
       "    </tr>\n",
       "  </thead>\n",
       "  <tbody>\n",
       "    <tr>\n",
       "      <th>cough</th>\n",
       "      <td>1.000000</td>\n",
       "      <td>0.493721</td>\n",
       "      <td>0.144882</td>\n",
       "      <td>0.132812</td>\n",
       "      <td>0.160682</td>\n",
       "      <td>0.315067</td>\n",
       "      <td>-0.043549</td>\n",
       "      <td>0.020096</td>\n",
       "      <td>0.266921</td>\n",
       "      <td>-0.625899</td>\n",
       "    </tr>\n",
       "    <tr>\n",
       "      <th>fever</th>\n",
       "      <td>0.493721</td>\n",
       "      <td>1.000000</td>\n",
       "      <td>0.165709</td>\n",
       "      <td>0.164952</td>\n",
       "      <td>0.234383</td>\n",
       "      <td>0.450663</td>\n",
       "      <td>-0.009980</td>\n",
       "      <td>0.035532</td>\n",
       "      <td>0.240803</td>\n",
       "      <td>-0.384716</td>\n",
       "    </tr>\n",
       "    <tr>\n",
       "      <th>sore_throat</th>\n",
       "      <td>0.144882</td>\n",
       "      <td>0.165709</td>\n",
       "      <td>1.000000</td>\n",
       "      <td>0.228230</td>\n",
       "      <td>0.391574</td>\n",
       "      <td>0.490772</td>\n",
       "      <td>-0.013487</td>\n",
       "      <td>-0.007615</td>\n",
       "      <td>0.259854</td>\n",
       "      <td>-0.144305</td>\n",
       "    </tr>\n",
       "    <tr>\n",
       "      <th>shortness_of_breath</th>\n",
       "      <td>0.132812</td>\n",
       "      <td>0.164952</td>\n",
       "      <td>0.228230</td>\n",
       "      <td>1.000000</td>\n",
       "      <td>0.252753</td>\n",
       "      <td>0.418893</td>\n",
       "      <td>0.012516</td>\n",
       "      <td>0.005181</td>\n",
       "      <td>0.194949</td>\n",
       "      <td>-0.110626</td>\n",
       "    </tr>\n",
       "    <tr>\n",
       "      <th>head_ache</th>\n",
       "      <td>0.160682</td>\n",
       "      <td>0.234383</td>\n",
       "      <td>0.391574</td>\n",
       "      <td>0.252753</td>\n",
       "      <td>1.000000</td>\n",
       "      <td>0.604634</td>\n",
       "      <td>-0.012710</td>\n",
       "      <td>0.000848</td>\n",
       "      <td>0.309871</td>\n",
       "      <td>-0.164665</td>\n",
       "    </tr>\n",
       "    <tr>\n",
       "      <th>corona_result_positive</th>\n",
       "      <td>0.315067</td>\n",
       "      <td>0.450663</td>\n",
       "      <td>0.490772</td>\n",
       "      <td>0.418893</td>\n",
       "      <td>0.604634</td>\n",
       "      <td>1.000000</td>\n",
       "      <td>0.008310</td>\n",
       "      <td>0.029147</td>\n",
       "      <td>0.440959</td>\n",
       "      <td>-0.242926</td>\n",
       "    </tr>\n",
       "    <tr>\n",
       "      <th>age_60_and_above_Yes</th>\n",
       "      <td>-0.043549</td>\n",
       "      <td>-0.009980</td>\n",
       "      <td>-0.013487</td>\n",
       "      <td>0.012516</td>\n",
       "      <td>-0.012710</td>\n",
       "      <td>0.008310</td>\n",
       "      <td>1.000000</td>\n",
       "      <td>-0.035807</td>\n",
       "      <td>-0.029121</td>\n",
       "      <td>0.066546</td>\n",
       "    </tr>\n",
       "    <tr>\n",
       "      <th>gender_male</th>\n",
       "      <td>0.020096</td>\n",
       "      <td>0.035532</td>\n",
       "      <td>-0.007615</td>\n",
       "      <td>0.005181</td>\n",
       "      <td>0.000848</td>\n",
       "      <td>0.029147</td>\n",
       "      <td>-0.035807</td>\n",
       "      <td>1.000000</td>\n",
       "      <td>0.011765</td>\n",
       "      <td>-0.020785</td>\n",
       "    </tr>\n",
       "    <tr>\n",
       "      <th>test_indication_Contact_with_confirmed</th>\n",
       "      <td>0.266921</td>\n",
       "      <td>0.240803</td>\n",
       "      <td>0.259854</td>\n",
       "      <td>0.194949</td>\n",
       "      <td>0.309871</td>\n",
       "      <td>0.440959</td>\n",
       "      <td>-0.029121</td>\n",
       "      <td>0.011765</td>\n",
       "      <td>1.000000</td>\n",
       "      <td>-0.455504</td>\n",
       "    </tr>\n",
       "    <tr>\n",
       "      <th>test_indication_Other</th>\n",
       "      <td>-0.625899</td>\n",
       "      <td>-0.384716</td>\n",
       "      <td>-0.144305</td>\n",
       "      <td>-0.110626</td>\n",
       "      <td>-0.164665</td>\n",
       "      <td>-0.242926</td>\n",
       "      <td>0.066546</td>\n",
       "      <td>-0.020785</td>\n",
       "      <td>-0.455504</td>\n",
       "      <td>1.000000</td>\n",
       "    </tr>\n",
       "  </tbody>\n",
       "</table>\n",
       "</div>"
      ],
      "text/plain": [
       "                                           cough     fever  sore_throat  \\\n",
       "cough                                   1.000000  0.493721     0.144882   \n",
       "fever                                   0.493721  1.000000     0.165709   \n",
       "sore_throat                             0.144882  0.165709     1.000000   \n",
       "shortness_of_breath                     0.132812  0.164952     0.228230   \n",
       "head_ache                               0.160682  0.234383     0.391574   \n",
       "corona_result_positive                  0.315067  0.450663     0.490772   \n",
       "age_60_and_above_Yes                   -0.043549 -0.009980    -0.013487   \n",
       "gender_male                             0.020096  0.035532    -0.007615   \n",
       "test_indication_Contact_with_confirmed  0.266921  0.240803     0.259854   \n",
       "test_indication_Other                  -0.625899 -0.384716    -0.144305   \n",
       "\n",
       "                                        shortness_of_breath  head_ache  \\\n",
       "cough                                              0.132812   0.160682   \n",
       "fever                                              0.164952   0.234383   \n",
       "sore_throat                                        0.228230   0.391574   \n",
       "shortness_of_breath                                1.000000   0.252753   \n",
       "head_ache                                          0.252753   1.000000   \n",
       "corona_result_positive                             0.418893   0.604634   \n",
       "age_60_and_above_Yes                               0.012516  -0.012710   \n",
       "gender_male                                        0.005181   0.000848   \n",
       "test_indication_Contact_with_confirmed             0.194949   0.309871   \n",
       "test_indication_Other                             -0.110626  -0.164665   \n",
       "\n",
       "                                        corona_result_positive  \\\n",
       "cough                                                 0.315067   \n",
       "fever                                                 0.450663   \n",
       "sore_throat                                           0.490772   \n",
       "shortness_of_breath                                   0.418893   \n",
       "head_ache                                             0.604634   \n",
       "corona_result_positive                                1.000000   \n",
       "age_60_and_above_Yes                                  0.008310   \n",
       "gender_male                                           0.029147   \n",
       "test_indication_Contact_with_confirmed                0.440959   \n",
       "test_indication_Other                                -0.242926   \n",
       "\n",
       "                                        age_60_and_above_Yes  gender_male  \\\n",
       "cough                                              -0.043549     0.020096   \n",
       "fever                                              -0.009980     0.035532   \n",
       "sore_throat                                        -0.013487    -0.007615   \n",
       "shortness_of_breath                                 0.012516     0.005181   \n",
       "head_ache                                          -0.012710     0.000848   \n",
       "corona_result_positive                              0.008310     0.029147   \n",
       "age_60_and_above_Yes                                1.000000    -0.035807   \n",
       "gender_male                                        -0.035807     1.000000   \n",
       "test_indication_Contact_with_confirmed             -0.029121     0.011765   \n",
       "test_indication_Other                               0.066546    -0.020785   \n",
       "\n",
       "                                        test_indication_Contact_with_confirmed  \\\n",
       "cough                                                                 0.266921   \n",
       "fever                                                                 0.240803   \n",
       "sore_throat                                                           0.259854   \n",
       "shortness_of_breath                                                   0.194949   \n",
       "head_ache                                                             0.309871   \n",
       "corona_result_positive                                                0.440959   \n",
       "age_60_and_above_Yes                                                 -0.029121   \n",
       "gender_male                                                           0.011765   \n",
       "test_indication_Contact_with_confirmed                                1.000000   \n",
       "test_indication_Other                                                -0.455504   \n",
       "\n",
       "                                        test_indication_Other  \n",
       "cough                                               -0.625899  \n",
       "fever                                               -0.384716  \n",
       "sore_throat                                         -0.144305  \n",
       "shortness_of_breath                                 -0.110626  \n",
       "head_ache                                           -0.164665  \n",
       "corona_result_positive                              -0.242926  \n",
       "age_60_and_above_Yes                                 0.066546  \n",
       "gender_male                                         -0.020785  \n",
       "test_indication_Contact_with_confirmed              -0.455504  \n",
       "test_indication_Other                                1.000000  "
      ]
     },
     "execution_count": 57,
     "metadata": {},
     "output_type": "execute_result"
    }
   ],
   "source": [
    "correlation_df = xdfohe.corr() ##Checking correlation\n",
    "correlation_df "
   ]
  },
  {
   "cell_type": "code",
   "execution_count": 58,
   "metadata": {},
   "outputs": [
    {
     "data": {
      "text/plain": [
       "head_ache            head_ache              1.000000\n",
       "shortness_of_breath  shortness_of_breath    1.000000\n",
       "fever                fever                  1.000000\n",
       "sore_throat          sore_throat            1.000000\n",
       "cough                cough                  1.000000\n",
       "                     fever                  0.493721\n",
       "fever                cough                  0.493721\n",
       "sore_throat          head_ache              0.391574\n",
       "head_ache            sore_throat            0.391574\n",
       "                     shortness_of_breath    0.252753\n",
       "shortness_of_breath  head_ache              0.252753\n",
       "head_ache            fever                  0.234383\n",
       "fever                head_ache              0.234383\n",
       "shortness_of_breath  sore_throat            0.228230\n",
       "sore_throat          shortness_of_breath    0.228230\n",
       "                     fever                  0.165709\n",
       "fever                sore_throat            0.165709\n",
       "shortness_of_breath  fever                  0.164952\n",
       "fever                shortness_of_breath    0.164952\n",
       "cough                head_ache              0.160682\n",
       "head_ache            cough                  0.160682\n",
       "cough                sore_throat            0.144882\n",
       "sore_throat          cough                  0.144882\n",
       "cough                shortness_of_breath    0.132812\n",
       "shortness_of_breath  cough                  0.132812\n",
       "dtype: float64"
      ]
     },
     "execution_count": 58,
     "metadata": {},
     "output_type": "execute_result"
    }
   ],
   "source": [
    "correlation_df = (df.corr().stack().sort_values(ascending=False))\n",
    "correlation_df"
   ]
  },
  {
   "cell_type": "code",
   "execution_count": 59,
   "metadata": {},
   "outputs": [
    {
     "data": {
      "text/plain": [
       "test_indication_Other                   test_indication_Other                     1.000000\n",
       "head_ache                               corona_result_positive                    0.604634\n",
       "fever                                   cough                                     0.493721\n",
       "sore_throat                             corona_result_positive                    0.490772\n",
       "fever                                   corona_result_positive                    0.450663\n",
       "test_indication_Contact_with_confirmed  corona_result_positive                    0.440959\n",
       "corona_result_positive                  shortness_of_breath                       0.418893\n",
       "sore_throat                             head_ache                                 0.391574\n",
       "corona_result_positive                  cough                                     0.315067\n",
       "head_ache                               test_indication_Contact_with_confirmed    0.309871\n",
       "test_indication_Contact_with_confirmed  cough                                     0.266921\n",
       "                                        sore_throat                               0.259854\n",
       "shortness_of_breath                     head_ache                                 0.252753\n",
       "test_indication_Contact_with_confirmed  fever                                     0.240803\n",
       "fever                                   head_ache                                 0.234383\n",
       "sore_throat                             shortness_of_breath                       0.228230\n",
       "test_indication_Contact_with_confirmed  shortness_of_breath                       0.194949\n",
       "fever                                   sore_throat                               0.165709\n",
       "                                        shortness_of_breath                       0.164952\n",
       "head_ache                               cough                                     0.160682\n",
       "cough                                   sore_throat                               0.144882\n",
       "                                        shortness_of_breath                       0.132812\n",
       "test_indication_Other                   age_60_and_above_Yes                      0.066546\n",
       "fever                                   gender_male                               0.035532\n",
       "corona_result_positive                  gender_male                               0.029147\n",
       "cough                                   gender_male                               0.020096\n",
       "shortness_of_breath                     age_60_and_above_Yes                      0.012516\n",
       "gender_male                             test_indication_Contact_with_confirmed    0.011765\n",
       "corona_result_positive                  age_60_and_above_Yes                      0.008310\n",
       "shortness_of_breath                     gender_male                               0.005181\n",
       "head_ache                               gender_male                               0.000848\n",
       "gender_male                             sore_throat                              -0.007615\n",
       "age_60_and_above_Yes                    fever                                    -0.009980\n",
       "                                        head_ache                                -0.012710\n",
       "sore_throat                             age_60_and_above_Yes                     -0.013487\n",
       "test_indication_Other                   gender_male                              -0.020785\n",
       "age_60_and_above_Yes                    test_indication_Contact_with_confirmed   -0.029121\n",
       "                                        gender_male                              -0.035807\n",
       "cough                                   age_60_and_above_Yes                     -0.043549\n",
       "shortness_of_breath                     test_indication_Other                    -0.110626\n",
       "test_indication_Other                   sore_throat                              -0.144305\n",
       "                                        head_ache                                -0.164665\n",
       "                                        corona_result_positive                   -0.242926\n",
       "fever                                   test_indication_Other                    -0.384716\n",
       "test_indication_Other                   test_indication_Contact_with_confirmed   -0.455504\n",
       "cough                                   test_indication_Other                    -0.625899\n",
       "dtype: float64"
      ]
     },
     "execution_count": 59,
     "metadata": {},
     "output_type": "execute_result"
    }
   ],
   "source": [
    "correlation_df = (xdfohe.corr().stack().sort_values(ascending=False))\n",
    "correlation_df=correlation_df.drop_duplicates()\n",
    "correlation_df"
   ]
  },
  {
   "cell_type": "code",
   "execution_count": 60,
   "metadata": {},
   "outputs": [
    {
     "data": {
      "text/plain": [
       "MultiIndex([(                 'test_indication_Other', ...),\n",
       "            (                             'head_ache', ...),\n",
       "            (                                 'fever', ...),\n",
       "            (                           'sore_throat', ...),\n",
       "            (                                 'fever', ...),\n",
       "            ('test_indication_Contact_with_confirmed', ...),\n",
       "            (                'corona_result_positive', ...),\n",
       "            (                           'sore_throat', ...),\n",
       "            (                'corona_result_positive', ...),\n",
       "            (                             'head_ache', ...),\n",
       "            ('test_indication_Contact_with_confirmed', ...),\n",
       "            ('test_indication_Contact_with_confirmed', ...),\n",
       "            (                   'shortness_of_breath', ...),\n",
       "            ('test_indication_Contact_with_confirmed', ...),\n",
       "            (                                 'fever', ...),\n",
       "            (                           'sore_throat', ...),\n",
       "            ('test_indication_Contact_with_confirmed', ...),\n",
       "            (                                 'fever', ...),\n",
       "            (                                 'fever', ...),\n",
       "            (                             'head_ache', ...),\n",
       "            (                                 'cough', ...),\n",
       "            (                                 'cough', ...),\n",
       "            (                 'test_indication_Other', ...),\n",
       "            (                                 'fever', ...),\n",
       "            (                'corona_result_positive', ...),\n",
       "            (                                 'cough', ...),\n",
       "            (                   'shortness_of_breath', ...),\n",
       "            (                           'gender_male', ...),\n",
       "            (                'corona_result_positive', ...),\n",
       "            (                   'shortness_of_breath', ...),\n",
       "            (                             'head_ache', ...),\n",
       "            (                           'gender_male', ...),\n",
       "            (                  'age_60_and_above_Yes', ...),\n",
       "            (                  'age_60_and_above_Yes', ...),\n",
       "            (                           'sore_throat', ...),\n",
       "            (                 'test_indication_Other', ...),\n",
       "            (                  'age_60_and_above_Yes', ...),\n",
       "            (                  'age_60_and_above_Yes', ...),\n",
       "            (                                 'cough', ...),\n",
       "            (                   'shortness_of_breath', ...),\n",
       "            (                 'test_indication_Other', ...),\n",
       "            (                 'test_indication_Other', ...),\n",
       "            (                 'test_indication_Other', ...),\n",
       "            (                                 'fever', ...),\n",
       "            (                 'test_indication_Other', ...),\n",
       "            (                                 'cough', ...)],\n",
       "           )"
      ]
     },
     "execution_count": 60,
     "metadata": {},
     "output_type": "execute_result"
    }
   ],
   "source": [
    "correlation_df.index"
   ]
  },
  {
   "cell_type": "markdown",
   "metadata": {},
   "source": [
    "# Separating target column"
   ]
  },
  {
   "cell_type": "code",
   "execution_count": 61,
   "metadata": {},
   "outputs": [],
   "source": [
    "X=xdfohe.drop({\"corona_result_positive\"}, axis=1)\n",
    "Y=xdfohe[\"corona_result_positive\"]"
   ]
  },
  {
   "cell_type": "markdown",
   "metadata": {},
   "source": [
    "# Resampling the Dataset to Balance the values in target column"
   ]
  },
  {
   "cell_type": "code",
   "execution_count": 62,
   "metadata": {},
   "outputs": [],
   "source": [
    "from imblearn.combine import SMOTETomek\n",
    "from imblearn.under_sampling import NearMiss\n",
    "smk = SMOTETomek(random_state=42)\n",
    "X_res,y_res=smk.fit_resample(X,Y)"
   ]
  },
  {
   "cell_type": "code",
   "execution_count": 63,
   "metadata": {},
   "outputs": [
    {
     "name": "stdout",
     "output_type": "stream",
     "text": [
      "Original dataset shape Counter({0: 125668, 1: 4315})\n",
      "Resampled dataset shape Counter({0: 125668, 1: 125668})\n"
     ]
    }
   ],
   "source": [
    "from collections import Counter\n",
    "print('Original dataset shape {}'.format(Counter(Y)))\n",
    "print('Resampled dataset shape {}'.format(Counter(y_res)))"
   ]
  },
  {
   "cell_type": "code",
   "execution_count": 64,
   "metadata": {},
   "outputs": [],
   "source": [
    "def printscores(actual,pred):\n",
    "    print(\"AUC:\",metrics.roc_auc_score(actual,pred))\n",
    "    print(\"accuracy:\",metrics.accuracy_score(actual,pred))\n",
    "    print(\"recall  :\",metrics.recall_score(actual,pred))\n",
    "    print(\"precision :\",metrics.precision_score(actual,pred))\n",
    "    print(\"f1-score : \",metrics.f1_score(actual,pred))"
   ]
  },
  {
   "cell_type": "markdown",
   "metadata": {},
   "source": [
    "# Splitting the data into test and train"
   ]
  },
  {
   "cell_type": "code",
   "execution_count": 122,
   "metadata": {},
   "outputs": [],
   "source": [
    "Xtrain,Xtest,ytrain,ytest=model_selection.train_test_split(X_res,y_res,test_size=.3,random_state=42)"
   ]
  },
  {
   "cell_type": "markdown",
   "metadata": {},
   "source": [
    "# LOGISTIC REGRESSION"
   ]
  },
  {
   "cell_type": "code",
   "execution_count": 66,
   "metadata": {},
   "outputs": [],
   "source": [
    "from sklearn import linear_model\n",
    "model=linear_model.LogisticRegression()\n",
    "model.fit(Xtrain,ytrain) ##Building model with all columns\n",
    "testpred=model.predict(Xtest)\n",
    "trainpred=model.predict(Xtrain)"
   ]
  },
  {
   "cell_type": "code",
   "execution_count": 67,
   "metadata": {},
   "outputs": [
    {
     "name": "stdout",
     "output_type": "stream",
     "text": [
      "AUC: 0.9744665629506819\n",
      "accuracy: 0.9744394236507801\n",
      "recall  : 1.0\n",
      "precision : 0.951315889186\n",
      "f1-score :  0.9750506255374629\n",
      "AUC: 0.9742202249581194\n",
      "accuracy: 0.974284160687524\n",
      "recall  : 1.0\n",
      "precision : 0.9511992550273073\n",
      "f1-score :  0.974989358546055\n"
     ]
    }
   ],
   "source": [
    "printscores(ytrain,trainpred)##Checking metrics score with all columns\n",
    "printscores(ytest,testpred)"
   ]
  },
  {
   "cell_type": "code",
   "execution_count": 68,
   "metadata": {},
   "outputs": [
    {
     "data": {
      "text/html": [
       "<div>\n",
       "<style scoped>\n",
       "    .dataframe tbody tr th:only-of-type {\n",
       "        vertical-align: middle;\n",
       "    }\n",
       "\n",
       "    .dataframe tbody tr th {\n",
       "        vertical-align: top;\n",
       "    }\n",
       "\n",
       "    .dataframe thead th {\n",
       "        text-align: right;\n",
       "    }\n",
       "</style>\n",
       "<table border=\"1\" class=\"dataframe\">\n",
       "  <thead>\n",
       "    <tr style=\"text-align: right;\">\n",
       "      <th></th>\n",
       "      <th>Features</th>\n",
       "      <th>VIF</th>\n",
       "    </tr>\n",
       "  </thead>\n",
       "  <tbody>\n",
       "    <tr>\n",
       "      <th>0</th>\n",
       "      <td>cough</td>\n",
       "      <td>2.881371</td>\n",
       "    </tr>\n",
       "    <tr>\n",
       "      <th>1</th>\n",
       "      <td>fever</td>\n",
       "      <td>2.696684</td>\n",
       "    </tr>\n",
       "    <tr>\n",
       "      <th>2</th>\n",
       "      <td>sore_throat</td>\n",
       "      <td>1.322848</td>\n",
       "    </tr>\n",
       "    <tr>\n",
       "      <th>3</th>\n",
       "      <td>shortness_of_breath</td>\n",
       "      <td>1.174443</td>\n",
       "    </tr>\n",
       "    <tr>\n",
       "      <th>4</th>\n",
       "      <td>head_ache</td>\n",
       "      <td>1.476592</td>\n",
       "    </tr>\n",
       "    <tr>\n",
       "      <th>5</th>\n",
       "      <td>age_60_and_above_Yes</td>\n",
       "      <td>1.227619</td>\n",
       "    </tr>\n",
       "    <tr>\n",
       "      <th>6</th>\n",
       "      <td>gender_male</td>\n",
       "      <td>2.050449</td>\n",
       "    </tr>\n",
       "    <tr>\n",
       "      <th>7</th>\n",
       "      <td>test_indication_Contact_with_confirmed</td>\n",
       "      <td>1.935935</td>\n",
       "    </tr>\n",
       "    <tr>\n",
       "      <th>8</th>\n",
       "      <td>test_indication_Other</td>\n",
       "      <td>1.897644</td>\n",
       "    </tr>\n",
       "  </tbody>\n",
       "</table>\n",
       "</div>"
      ],
      "text/plain": [
       "                                 Features       VIF\n",
       "0                                   cough  2.881371\n",
       "1                                   fever  2.696684\n",
       "2                             sore_throat  1.322848\n",
       "3                     shortness_of_breath  1.174443\n",
       "4                               head_ache  1.476592\n",
       "5                    age_60_and_above_Yes  1.227619\n",
       "6                             gender_male  2.050449\n",
       "7  test_indication_Contact_with_confirmed  1.935935\n",
       "8                   test_indication_Other  1.897644"
      ]
     },
     "execution_count": 68,
     "metadata": {},
     "output_type": "execute_result"
    }
   ],
   "source": [
    "from statsmodels.stats.outliers_influence import variance_inflation_factor\n",
    "vifdf = pd.DataFrame() \n",
    "vifdf['Features'] = Xtrain.columns\n",
    "vifdf['VIF'] = [ variance_inflation_factor(Xtrain.values, i) for i in range(Xtrain.shape[1])] ## Checking VIF\n",
    "vifdf"
   ]
  },
  {
   "cell_type": "code",
   "execution_count": 69,
   "metadata": {},
   "outputs": [
    {
     "data": {
      "text/html": [
       "<table class=\"simpletable\">\n",
       "<caption>Generalized Linear Model Regression Results</caption>\n",
       "<tr>\n",
       "  <th>Dep. Variable:</th>   <td>corona_result_positive</td> <th>  No. Observations:  </th>  <td>175935</td> \n",
       "</tr>\n",
       "<tr>\n",
       "  <th>Model:</th>                     <td>GLM</td>          <th>  Df Residuals:      </th>  <td>175925</td> \n",
       "</tr>\n",
       "<tr>\n",
       "  <th>Model Family:</th>           <td>Binomial</td>        <th>  Df Model:          </th>  <td>     9</td> \n",
       "</tr>\n",
       "<tr>\n",
       "  <th>Link Function:</th>            <td>logit</td>         <th>  Scale:             </th> <td>  1.0000</td>\n",
       "</tr>\n",
       "<tr>\n",
       "  <th>Method:</th>                   <td>IRLS</td>          <th>  Log-Likelihood:    </th> <td> -12707.</td>\n",
       "</tr>\n",
       "<tr>\n",
       "  <th>Date:</th>               <td>Wed, 08 Jun 2022</td>    <th>  Deviance:          </th> <td>  25413.</td>\n",
       "</tr>\n",
       "<tr>\n",
       "  <th>Time:</th>                   <td>20:48:16</td>        <th>  Pearson chi2:      </th> <td>2.26e+14</td>\n",
       "</tr>\n",
       "<tr>\n",
       "  <th>No. Iterations:</th>            <td>12</td>           <th>                     </th>     <td> </td>   \n",
       "</tr>\n",
       "<tr>\n",
       "  <th>Covariance Type:</th>        <td>nonrobust</td>       <th>                     </th>     <td> </td>   \n",
       "</tr>\n",
       "</table>\n",
       "<table class=\"simpletable\">\n",
       "<tr>\n",
       "                     <td></td>                       <th>coef</th>     <th>std err</th>      <th>z</th>      <th>P>|z|</th>  <th>[0.025</th>    <th>0.975]</th>  \n",
       "</tr>\n",
       "<tr>\n",
       "  <th>const</th>                                  <td>  -13.4749</td> <td>    0.252</td> <td>  -53.461</td> <td> 0.000</td> <td>  -13.969</td> <td>  -12.981</td>\n",
       "</tr>\n",
       "<tr>\n",
       "  <th>cough</th>                                  <td>    6.6569</td> <td>    0.164</td> <td>   40.560</td> <td> 0.000</td> <td>    6.335</td> <td>    6.979</td>\n",
       "</tr>\n",
       "<tr>\n",
       "  <th>fever</th>                                  <td>    7.1163</td> <td>    0.123</td> <td>   57.820</td> <td> 0.000</td> <td>    6.875</td> <td>    7.357</td>\n",
       "</tr>\n",
       "<tr>\n",
       "  <th>sore_throat</th>                            <td>    9.5262</td> <td>    0.171</td> <td>   55.571</td> <td> 0.000</td> <td>    9.190</td> <td>    9.862</td>\n",
       "</tr>\n",
       "<tr>\n",
       "  <th>shortness_of_breath</th>                    <td>    9.2723</td> <td>    0.181</td> <td>   51.310</td> <td> 0.000</td> <td>    8.918</td> <td>    9.627</td>\n",
       "</tr>\n",
       "<tr>\n",
       "  <th>head_ache</th>                              <td>   10.2561</td> <td>    0.184</td> <td>   55.740</td> <td> 0.000</td> <td>    9.895</td> <td>   10.617</td>\n",
       "</tr>\n",
       "<tr>\n",
       "  <th>age_60_and_above_Yes</th>                   <td>    0.8043</td> <td>    0.046</td> <td>   17.500</td> <td> 0.000</td> <td>    0.714</td> <td>    0.894</td>\n",
       "</tr>\n",
       "<tr>\n",
       "  <th>gender_male</th>                            <td>    0.6037</td> <td>    0.034</td> <td>   17.984</td> <td> 0.000</td> <td>    0.538</td> <td>    0.670</td>\n",
       "</tr>\n",
       "<tr>\n",
       "  <th>test_indication_Contact_with_confirmed</th> <td>    3.0141</td> <td>    0.060</td> <td>   50.186</td> <td> 0.000</td> <td>    2.896</td> <td>    3.132</td>\n",
       "</tr>\n",
       "<tr>\n",
       "  <th>test_indication_Other</th>                  <td>    1.1970</td> <td>    0.035</td> <td>   34.274</td> <td> 0.000</td> <td>    1.129</td> <td>    1.265</td>\n",
       "</tr>\n",
       "</table>"
      ],
      "text/plain": [
       "<class 'statsmodels.iolib.summary.Summary'>\n",
       "\"\"\"\n",
       "                   Generalized Linear Model Regression Results                    \n",
       "==================================================================================\n",
       "Dep. Variable:     corona_result_positive   No. Observations:               175935\n",
       "Model:                                GLM   Df Residuals:                   175925\n",
       "Model Family:                    Binomial   Df Model:                            9\n",
       "Link Function:                      logit   Scale:                          1.0000\n",
       "Method:                              IRLS   Log-Likelihood:                -12707.\n",
       "Date:                    Wed, 08 Jun 2022   Deviance:                       25413.\n",
       "Time:                            20:48:16   Pearson chi2:                 2.26e+14\n",
       "No. Iterations:                        12                                         \n",
       "Covariance Type:                nonrobust                                         \n",
       "==========================================================================================================\n",
       "                                             coef    std err          z      P>|z|      [0.025      0.975]\n",
       "----------------------------------------------------------------------------------------------------------\n",
       "const                                    -13.4749      0.252    -53.461      0.000     -13.969     -12.981\n",
       "cough                                      6.6569      0.164     40.560      0.000       6.335       6.979\n",
       "fever                                      7.1163      0.123     57.820      0.000       6.875       7.357\n",
       "sore_throat                                9.5262      0.171     55.571      0.000       9.190       9.862\n",
       "shortness_of_breath                        9.2723      0.181     51.310      0.000       8.918       9.627\n",
       "head_ache                                 10.2561      0.184     55.740      0.000       9.895      10.617\n",
       "age_60_and_above_Yes                       0.8043      0.046     17.500      0.000       0.714       0.894\n",
       "gender_male                                0.6037      0.034     17.984      0.000       0.538       0.670\n",
       "test_indication_Contact_with_confirmed     3.0141      0.060     50.186      0.000       2.896       3.132\n",
       "test_indication_Other                      1.1970      0.035     34.274      0.000       1.129       1.265\n",
       "==========================================================================================================\n",
       "\"\"\""
      ]
     },
     "execution_count": 69,
     "metadata": {},
     "output_type": "execute_result"
    }
   ],
   "source": [
    "import statsmodels.api as sm\n",
    "Xtrainsm=sm.add_constant(Xtrain)\n",
    "model = sm.GLM(  ytrain ,  Xtrainsm,  family = sm.families.Binomial()) \n",
    "results=model.fit()\n",
    "results.summary()"
   ]
  },
  {
   "cell_type": "code",
   "execution_count": 70,
   "metadata": {},
   "outputs": [
    {
     "data": {
      "text/plain": [
       "Index(['cough', 'fever', 'sore_throat', 'shortness_of_breath', 'head_ache',\n",
       "       'age_60_and_above_Yes', 'test_indication_Contact_with_confirmed',\n",
       "       'test_indication_Other'],\n",
       "      dtype='object')"
      ]
     },
     "execution_count": 70,
     "metadata": {},
     "output_type": "execute_result"
    }
   ],
   "source": [
    "from sklearn import feature_selection\n",
    "rfeobj=feature_selection.RFE(linear_model.LogisticRegression(),n_features_to_select=8) ## RFE of Column=8\n",
    "rfeobj.fit(Xtrain,ytrain)\n",
    "impcols=Xtrain.columns[rfeobj.support_] \n",
    "impcols"
   ]
  },
  {
   "cell_type": "code",
   "execution_count": 71,
   "metadata": {},
   "outputs": [
    {
     "data": {
      "text/html": [
       "<div>\n",
       "<style scoped>\n",
       "    .dataframe tbody tr th:only-of-type {\n",
       "        vertical-align: middle;\n",
       "    }\n",
       "\n",
       "    .dataframe tbody tr th {\n",
       "        vertical-align: top;\n",
       "    }\n",
       "\n",
       "    .dataframe thead th {\n",
       "        text-align: right;\n",
       "    }\n",
       "</style>\n",
       "<table border=\"1\" class=\"dataframe\">\n",
       "  <thead>\n",
       "    <tr style=\"text-align: right;\">\n",
       "      <th></th>\n",
       "      <th>Features</th>\n",
       "      <th>VIF</th>\n",
       "    </tr>\n",
       "  </thead>\n",
       "  <tbody>\n",
       "    <tr>\n",
       "      <th>0</th>\n",
       "      <td>cough</td>\n",
       "      <td>2.819327</td>\n",
       "    </tr>\n",
       "    <tr>\n",
       "      <th>1</th>\n",
       "      <td>fever</td>\n",
       "      <td>2.646885</td>\n",
       "    </tr>\n",
       "    <tr>\n",
       "      <th>2</th>\n",
       "      <td>sore_throat</td>\n",
       "      <td>1.320926</td>\n",
       "    </tr>\n",
       "    <tr>\n",
       "      <th>3</th>\n",
       "      <td>shortness_of_breath</td>\n",
       "      <td>1.174175</td>\n",
       "    </tr>\n",
       "    <tr>\n",
       "      <th>4</th>\n",
       "      <td>head_ache</td>\n",
       "      <td>1.476156</td>\n",
       "    </tr>\n",
       "    <tr>\n",
       "      <th>5</th>\n",
       "      <td>age_60_and_above_Yes</td>\n",
       "      <td>1.227494</td>\n",
       "    </tr>\n",
       "    <tr>\n",
       "      <th>6</th>\n",
       "      <td>test_indication_Contact_with_confirmed</td>\n",
       "      <td>1.863501</td>\n",
       "    </tr>\n",
       "    <tr>\n",
       "      <th>7</th>\n",
       "      <td>test_indication_Other</td>\n",
       "      <td>1.433847</td>\n",
       "    </tr>\n",
       "  </tbody>\n",
       "</table>\n",
       "</div>"
      ],
      "text/plain": [
       "                                 Features       VIF\n",
       "0                                   cough  2.819327\n",
       "1                                   fever  2.646885\n",
       "2                             sore_throat  1.320926\n",
       "3                     shortness_of_breath  1.174175\n",
       "4                               head_ache  1.476156\n",
       "5                    age_60_and_above_Yes  1.227494\n",
       "6  test_indication_Contact_with_confirmed  1.863501\n",
       "7                   test_indication_Other  1.433847"
      ]
     },
     "execution_count": 71,
     "metadata": {},
     "output_type": "execute_result"
    }
   ],
   "source": [
    "from statsmodels.stats.outliers_influence import variance_inflation_factor\n",
    "vifdf = pd.DataFrame() \n",
    "vifdf['Features'] = Xtrain[impcols].columns\n",
    "vifdf['VIF'] = [ variance_inflation_factor(Xtrain[impcols].values, i) for i in range(Xtrain[impcols].shape[1])] ##VIF with 8 columns\n",
    "vifdf"
   ]
  },
  {
   "cell_type": "code",
   "execution_count": 72,
   "metadata": {},
   "outputs": [
    {
     "data": {
      "text/html": [
       "<table class=\"simpletable\">\n",
       "<caption>Generalized Linear Model Regression Results</caption>\n",
       "<tr>\n",
       "  <th>Dep. Variable:</th>   <td>corona_result_positive</td> <th>  No. Observations:  </th>  <td>175935</td> \n",
       "</tr>\n",
       "<tr>\n",
       "  <th>Model:</th>                     <td>GLM</td>          <th>  Df Residuals:      </th>  <td>175926</td> \n",
       "</tr>\n",
       "<tr>\n",
       "  <th>Model Family:</th>           <td>Binomial</td>        <th>  Df Model:          </th>  <td>     8</td> \n",
       "</tr>\n",
       "<tr>\n",
       "  <th>Link Function:</th>            <td>logit</td>         <th>  Scale:             </th> <td>  1.0000</td>\n",
       "</tr>\n",
       "<tr>\n",
       "  <th>Method:</th>                   <td>IRLS</td>          <th>  Log-Likelihood:    </th> <td> -12867.</td>\n",
       "</tr>\n",
       "<tr>\n",
       "  <th>Date:</th>               <td>Wed, 08 Jun 2022</td>    <th>  Deviance:          </th> <td>  25733.</td>\n",
       "</tr>\n",
       "<tr>\n",
       "  <th>Time:</th>                   <td>20:48:23</td>        <th>  Pearson chi2:      </th> <td>2.73e+14</td>\n",
       "</tr>\n",
       "<tr>\n",
       "  <th>No. Iterations:</th>            <td>12</td>           <th>                     </th>     <td> </td>   \n",
       "</tr>\n",
       "<tr>\n",
       "  <th>Covariance Type:</th>        <td>nonrobust</td>       <th>                     </th>     <td> </td>   \n",
       "</tr>\n",
       "</table>\n",
       "<table class=\"simpletable\">\n",
       "<tr>\n",
       "                     <td></td>                       <th>coef</th>     <th>std err</th>      <th>z</th>      <th>P>|z|</th>  <th>[0.025</th>    <th>0.975]</th>  \n",
       "</tr>\n",
       "<tr>\n",
       "  <th>const</th>                                  <td>  -13.0910</td> <td>    0.249</td> <td>  -52.507</td> <td> 0.000</td> <td>  -13.580</td> <td>  -12.602</td>\n",
       "</tr>\n",
       "<tr>\n",
       "  <th>cough</th>                                  <td>    6.6358</td> <td>    0.163</td> <td>   40.791</td> <td> 0.000</td> <td>    6.317</td> <td>    6.955</td>\n",
       "</tr>\n",
       "<tr>\n",
       "  <th>fever</th>                                  <td>    7.1353</td> <td>    0.123</td> <td>   57.968</td> <td> 0.000</td> <td>    6.894</td> <td>    7.377</td>\n",
       "</tr>\n",
       "<tr>\n",
       "  <th>sore_throat</th>                            <td>    9.4475</td> <td>    0.171</td> <td>   55.303</td> <td> 0.000</td> <td>    9.113</td> <td>    9.782</td>\n",
       "</tr>\n",
       "<tr>\n",
       "  <th>shortness_of_breath</th>                    <td>    9.2654</td> <td>    0.181</td> <td>   51.287</td> <td> 0.000</td> <td>    8.911</td> <td>    9.620</td>\n",
       "</tr>\n",
       "<tr>\n",
       "  <th>head_ache</th>                              <td>   10.1670</td> <td>    0.183</td> <td>   55.496</td> <td> 0.000</td> <td>    9.808</td> <td>   10.526</td>\n",
       "</tr>\n",
       "<tr>\n",
       "  <th>age_60_and_above_Yes</th>                   <td>    0.7975</td> <td>    0.046</td> <td>   17.465</td> <td> 0.000</td> <td>    0.708</td> <td>    0.887</td>\n",
       "</tr>\n",
       "<tr>\n",
       "  <th>test_indication_Contact_with_confirmed</th> <td>    2.9734</td> <td>    0.060</td> <td>   49.652</td> <td> 0.000</td> <td>    2.856</td> <td>    3.091</td>\n",
       "</tr>\n",
       "<tr>\n",
       "  <th>test_indication_Other</th>                  <td>    1.1852</td> <td>    0.035</td> <td>   34.210</td> <td> 0.000</td> <td>    1.117</td> <td>    1.253</td>\n",
       "</tr>\n",
       "</table>"
      ],
      "text/plain": [
       "<class 'statsmodels.iolib.summary.Summary'>\n",
       "\"\"\"\n",
       "                   Generalized Linear Model Regression Results                    \n",
       "==================================================================================\n",
       "Dep. Variable:     corona_result_positive   No. Observations:               175935\n",
       "Model:                                GLM   Df Residuals:                   175926\n",
       "Model Family:                    Binomial   Df Model:                            8\n",
       "Link Function:                      logit   Scale:                          1.0000\n",
       "Method:                              IRLS   Log-Likelihood:                -12867.\n",
       "Date:                    Wed, 08 Jun 2022   Deviance:                       25733.\n",
       "Time:                            20:48:23   Pearson chi2:                 2.73e+14\n",
       "No. Iterations:                        12                                         \n",
       "Covariance Type:                nonrobust                                         \n",
       "==========================================================================================================\n",
       "                                             coef    std err          z      P>|z|      [0.025      0.975]\n",
       "----------------------------------------------------------------------------------------------------------\n",
       "const                                    -13.0910      0.249    -52.507      0.000     -13.580     -12.602\n",
       "cough                                      6.6358      0.163     40.791      0.000       6.317       6.955\n",
       "fever                                      7.1353      0.123     57.968      0.000       6.894       7.377\n",
       "sore_throat                                9.4475      0.171     55.303      0.000       9.113       9.782\n",
       "shortness_of_breath                        9.2654      0.181     51.287      0.000       8.911       9.620\n",
       "head_ache                                 10.1670      0.183     55.496      0.000       9.808      10.526\n",
       "age_60_and_above_Yes                       0.7975      0.046     17.465      0.000       0.708       0.887\n",
       "test_indication_Contact_with_confirmed     2.9734      0.060     49.652      0.000       2.856       3.091\n",
       "test_indication_Other                      1.1852      0.035     34.210      0.000       1.117       1.253\n",
       "==========================================================================================================\n",
       "\"\"\""
      ]
     },
     "execution_count": 72,
     "metadata": {},
     "output_type": "execute_result"
    }
   ],
   "source": [
    "import statsmodels.api as sm\n",
    "Xtrainsm=sm.add_constant(Xtrain[impcols])\n",
    "model = sm.GLM(  ytrain ,  Xtrainsm,  family = sm.families.Binomial())\n",
    "results=model.fit()\n",
    "results.summary()"
   ]
  },
  {
   "cell_type": "code",
   "execution_count": 73,
   "metadata": {},
   "outputs": [
    {
     "name": "stdout",
     "output_type": "stream",
     "text": [
      "AUC: 0.9744665629506819\n",
      "accuracy: 0.9744394236507801\n",
      "recall  : 1.0\n",
      "precision : 0.951315889186\n",
      "f1-score :  0.9750506255374629\n",
      "AUC: 0.9742202249581194\n",
      "accuracy: 0.974284160687524\n",
      "recall  : 1.0\n",
      "precision : 0.9511992550273073\n",
      "f1-score :  0.974989358546055\n"
     ]
    }
   ],
   "source": [
    "model=linear_model.LogisticRegression() ##Building model with columns=8\n",
    "model.fit(Xtrain[impcols],ytrain)\n",
    "trainpred=model.predict(Xtrain[impcols]) \n",
    "testpred=model.predict(Xtest[impcols])\n",
    "printscores(ytrain,trainpred)##Checking metrics score with columns=8\n",
    "printscores(ytest,testpred)"
   ]
  },
  {
   "cell_type": "code",
   "execution_count": 74,
   "metadata": {},
   "outputs": [
    {
     "data": {
      "text/plain": [
       "Index(['cough', 'fever', 'sore_throat', 'shortness_of_breath', 'head_ache',\n",
       "       'test_indication_Contact_with_confirmed', 'test_indication_Other'],\n",
       "      dtype='object')"
      ]
     },
     "execution_count": 74,
     "metadata": {},
     "output_type": "execute_result"
    }
   ],
   "source": [
    "from sklearn import feature_selection\n",
    "rfeobj=feature_selection.RFE(linear_model.LogisticRegression(),n_features_to_select=7)  ##RFE of Column=7\n",
    "rfeobj.fit(Xtrain,ytrain)\n",
    "impcols=Xtrain.columns[rfeobj.support_] \n",
    "impcols"
   ]
  },
  {
   "cell_type": "code",
   "execution_count": 75,
   "metadata": {},
   "outputs": [
    {
     "name": "stdout",
     "output_type": "stream",
     "text": [
      "AUC: 0.9744779187154359\n",
      "accuracy: 0.9744507914854919\n",
      "recall  : 1.0\n",
      "precision : 0.9513364873496519\n",
      "f1-score :  0.975061444827261\n",
      "AUC: 0.9742202249581194\n",
      "accuracy: 0.974284160687524\n",
      "recall  : 1.0\n",
      "precision : 0.9511992550273073\n",
      "f1-score :  0.974989358546055\n"
     ]
    }
   ],
   "source": [
    "model=linear_model.LogisticRegression() ##Building model with columns=7\n",
    "model.fit(Xtrain[impcols],ytrain)\n",
    "trainpred=model.predict(Xtrain[impcols]) \n",
    "testpred=model.predict(Xtest[impcols])\n",
    "printscores(ytrain,trainpred)##Checking metrics score with columns=7\n",
    "printscores(ytest,testpred)"
   ]
  },
  {
   "cell_type": "markdown",
   "metadata": {},
   "source": [
    "# DECISION TREE"
   ]
  },
  {
   "cell_type": "code",
   "execution_count": 76,
   "metadata": {},
   "outputs": [
    {
     "name": "stdout",
     "output_type": "stream",
     "text": [
      "AUC: 0.9745063081273209\n",
      "accuracy: 0.974479211072271\n",
      "recall  : 1.0\n",
      "precision : 0.9513879866614698\n",
      "f1-score :  0.9750884941022426\n",
      "AUC: 0.9742335861392204\n",
      "accuracy: 0.9742974231110993\n",
      "recall  : 0.9999735407736677\n",
      "precision : 0.9512459098917695\n",
      "f1-score :  0.9750012899231205\n"
     ]
    }
   ],
   "source": [
    "from sklearn import tree\n",
    "model=tree.DecisionTreeClassifier(random_state=42) ##unconstrained model (All columns)\n",
    "model.fit(Xtrain,ytrain)\n",
    "trainp=model.predict(Xtrain)\n",
    "testp=model.predict(Xtest)\n",
    "printscores(ytrain,trainp)\n",
    "printscores(ytest,testp)"
   ]
  },
  {
   "cell_type": "code",
   "execution_count": 77,
   "metadata": {},
   "outputs": [
    {
     "data": {
      "text/plain": [
       "{'max_depth': 4}"
      ]
     },
     "execution_count": 77,
     "metadata": {},
     "output_type": "execute_result"
    }
   ],
   "source": [
    "##GridSearchCv on all columns for parameter tunning \n",
    "maxdepthvalues=list(range(3,15)) \n",
    "d={\"max_depth\": maxdepthvalues}\n",
    "obj=model_selection.GridSearchCV(estimator=tree.DecisionTreeClassifier(random_state=42),param_grid=d, cv=3 ,scoring=\"recall\",return_train_score=True)\n",
    "obj.fit(Xtrain,ytrain)\n",
    "obj.best_params_ "
   ]
  },
  {
   "cell_type": "code",
   "execution_count": 78,
   "metadata": {},
   "outputs": [
    {
     "name": "stdout",
     "output_type": "stream",
     "text": [
      "AUC: 0.9667048977413384\n",
      "accuracy: 0.9666695086253446\n",
      "recall  : 1.0\n",
      "precision : 0.9374426593270605\n",
      "f1-score :  0.9677113847102615\n",
      "AUC: 0.9670274151088892\n",
      "accuracy: 0.9671091895332953\n",
      "recall  : 1.0\n",
      "precision : 0.9384218105974077\n",
      "f1-score :  0.9682328226674181\n"
     ]
    }
   ],
   "source": [
    "model=tree.DecisionTreeClassifier(random_state=42,max_depth=4) ##Building model with all columns and max_depth=4\n",
    "model.fit(Xtrain,ytrain)\n",
    "trainp=model.predict(Xtrain) \n",
    "testp=model.predict(Xtest)\n",
    "printscores(ytrain,trainp) ##Checking metrics score with all columns and max_depth=4\n",
    "printscores(ytest,testp)"
   ]
  },
  {
   "cell_type": "code",
   "execution_count": 79,
   "metadata": {},
   "outputs": [
    {
     "data": {
      "text/plain": [
       "{'max_depth': 4, 'min_samples_split': 3}"
      ]
     },
     "execution_count": 79,
     "metadata": {},
     "output_type": "execute_result"
    }
   ],
   "source": [
    "##GridSearchCv on all columns for parameter tunning\n",
    "maxdepthvalues=list(range(3,15)) \n",
    "minsamplessplitvalues=list(range(3,15))\n",
    "d={\"max_depth\": maxdepthvalues    ,  \"min_samples_split\": minsamplessplitvalues}\n",
    "obj=model_selection.GridSearchCV(estimator=tree.DecisionTreeClassifier(random_state=42)  ,  param_grid=d, cv=3 , scoring=\"recall\")\n",
    "obj.fit(Xtrain,ytrain)\n",
    "obj.best_params_"
   ]
  },
  {
   "cell_type": "code",
   "execution_count": 80,
   "metadata": {},
   "outputs": [
    {
     "name": "stdout",
     "output_type": "stream",
     "text": [
      "AUC: 0.9667048977413384\n",
      "accuracy: 0.9666695086253446\n",
      "recall  : 1.0\n",
      "precision : 0.9374426593270605\n",
      "f1-score :  0.9677113847102615\n",
      "AUC: 0.9670274151088892\n",
      "accuracy: 0.9671091895332953\n",
      "recall  : 1.0\n",
      "precision : 0.9384218105974077\n",
      "f1-score :  0.9682328226674181\n"
     ]
    }
   ],
   "source": [
    "model=tree.DecisionTreeClassifier(random_state=42,max_depth=4, min_samples_split=3) ##Building model with all columns and max_depth=4, min_samples_split=3\n",
    "model.fit(Xtrain,ytrain)\n",
    "trainp=model.predict(Xtrain)\n",
    "testp=model.predict(Xtest)\n",
    "printscores(ytrain,trainp) ##Checking metrics score with all columns and max_depth=4, min_samples_split=3\n",
    "printscores(ytest,testp)"
   ]
  },
  {
   "cell_type": "code",
   "execution_count": 81,
   "metadata": {},
   "outputs": [
    {
     "data": {
      "text/plain": [
       "Index(['cough', 'fever', 'sore_throat', 'shortness_of_breath', 'head_ache',\n",
       "       'age_60_and_above_Yes', 'test_indication_Contact_with_confirmed',\n",
       "       'test_indication_Other'],\n",
       "      dtype='object')"
      ]
     },
     "execution_count": 81,
     "metadata": {},
     "output_type": "execute_result"
    }
   ],
   "source": [
    "from sklearn import feature_selection\n",
    "rfeobj=feature_selection.RFE(tree.DecisionTreeClassifier(random_state=42),n_features_to_select=8) ##RFE of Column=8\n",
    "rfeobj.fit(Xtrain,ytrain)\n",
    "impcols=Xtrain.columns[rfeobj.support_] \n",
    "impcols"
   ]
  },
  {
   "cell_type": "code",
   "execution_count": 82,
   "metadata": {},
   "outputs": [
    {
     "name": "stdout",
     "output_type": "stream",
     "text": [
      "AUC: 0.9744949523625668\n",
      "accuracy: 0.9744678432375593\n",
      "recall  : 1.0\n",
      "precision : 0.9513673862676743\n",
      "f1-score :  0.9750776742121616\n",
      "AUC: 0.9742468157523866\n",
      "accuracy: 0.9743106855346746\n",
      "recall  : 1.0\n",
      "precision : 0.9512471369963001\n",
      "f1-score :  0.9750145114479201\n"
     ]
    }
   ],
   "source": [
    "model=tree.DecisionTreeClassifier(random_state=42) ##Building model with columns=8\n",
    "model.fit(Xtrain[impcols],ytrain)\n",
    "trainp=model.predict(Xtrain[impcols])\n",
    "testp=model.predict(Xtest[impcols])\n",
    "printscores(ytrain,trainp) ##Checking metrics score with columns=8\n",
    "printscores(ytest,testp)"
   ]
  },
  {
   "cell_type": "code",
   "execution_count": 83,
   "metadata": {},
   "outputs": [
    {
     "data": {
      "text/plain": [
       "{'max_depth': 4}"
      ]
     },
     "execution_count": 83,
     "metadata": {},
     "output_type": "execute_result"
    }
   ],
   "source": [
    "##GridSearchCv on columns=8 for parameter tunning\n",
    "maxdepthvalues=list(range(3,15))\n",
    "d={\"max_depth\": maxdepthvalues}\n",
    "obj=model_selection.GridSearchCV(estimator=tree.DecisionTreeClassifier(random_state=42),param_grid=d, cv=3 ,scoring=\"recall\",return_train_score=True)\n",
    "obj.fit(Xtrain[impcols],ytrain)\n",
    "obj.best_params_"
   ]
  },
  {
   "cell_type": "code",
   "execution_count": 84,
   "metadata": {},
   "outputs": [
    {
     "name": "stdout",
     "output_type": "stream",
     "text": [
      "AUC: 0.9667048977413384\n",
      "accuracy: 0.9666695086253446\n",
      "recall  : 1.0\n",
      "precision : 0.9374426593270605\n",
      "f1-score :  0.9677113847102615\n",
      "AUC: 0.9670274151088892\n",
      "accuracy: 0.9671091895332953\n",
      "recall  : 1.0\n",
      "precision : 0.9384218105974077\n",
      "f1-score :  0.9682328226674181\n"
     ]
    }
   ],
   "source": [
    "model=tree.DecisionTreeClassifier(random_state=42,max_depth=4) ##Building model with columns=8 and max_depth=4\n",
    "model.fit(Xtrain[impcols],ytrain)\n",
    "trainp=model.predict(Xtrain[impcols])\n",
    "testp=model.predict(Xtest[impcols])\n",
    "printscores(ytrain,trainp)##Checking metrics score with columns=8 and max_depth=4\n",
    "printscores(ytest,testp)"
   ]
  },
  {
   "cell_type": "code",
   "execution_count": 85,
   "metadata": {},
   "outputs": [
    {
     "data": {
      "text/plain": [
       "Index(['cough', 'fever', 'sore_throat', 'shortness_of_breath', 'head_ache',\n",
       "       'test_indication_Contact_with_confirmed', 'test_indication_Other'],\n",
       "      dtype='object')"
      ]
     },
     "execution_count": 85,
     "metadata": {},
     "output_type": "execute_result"
    }
   ],
   "source": [
    "from sklearn import feature_selection\n",
    "rfeobj=feature_selection.RFE(tree.DecisionTreeClassifier(random_state=42),n_features_to_select=7) ##RFE of Column=7\n",
    "rfeobj.fit(Xtrain,ytrain)\n",
    "impcols=Xtrain.columns[rfeobj.support_] \n",
    "impcols"
   ]
  },
  {
   "cell_type": "code",
   "execution_count": 86,
   "metadata": {},
   "outputs": [
    {
     "name": "stdout",
     "output_type": "stream",
     "text": [
      "AUC: 0.9744949523625668\n",
      "accuracy: 0.9744678432375593\n",
      "recall  : 1.0\n",
      "precision : 0.9513673862676743\n",
      "f1-score :  0.9750776742121616\n",
      "AUC: 0.9742468157523866\n",
      "accuracy: 0.9743106855346746\n",
      "recall  : 1.0\n",
      "precision : 0.9512471369963001\n",
      "f1-score :  0.9750145114479201\n"
     ]
    }
   ],
   "source": [
    "model=tree.DecisionTreeClassifier(random_state=42) ##Building model with columns=7\n",
    "model.fit(Xtrain[impcols],ytrain)\n",
    "trainp=model.predict(Xtrain[impcols])\n",
    "testp=model.predict(Xtest[impcols])\n",
    "printscores(ytrain,trainp) ##Checking metrics score with columns=7\n",
    "printscores(ytest,testp)"
   ]
  },
  {
   "cell_type": "code",
   "execution_count": 87,
   "metadata": {},
   "outputs": [
    {
     "data": {
      "text/plain": [
       "{'max_depth': 4}"
      ]
     },
     "execution_count": 87,
     "metadata": {},
     "output_type": "execute_result"
    }
   ],
   "source": [
    "##GridSearchCv on columns=7 for parameter tunning\n",
    "maxdepthvalues=list(range(3,15))\n",
    "d={\"max_depth\": maxdepthvalues}\n",
    "obj=model_selection.GridSearchCV(estimator=tree.DecisionTreeClassifier(random_state=42),param_grid=d, cv=3 ,scoring=\"recall\",return_train_score=True)\n",
    "obj.fit(Xtrain[impcols],ytrain)\n",
    "obj.best_params_"
   ]
  },
  {
   "cell_type": "code",
   "execution_count": 88,
   "metadata": {},
   "outputs": [
    {
     "name": "stdout",
     "output_type": "stream",
     "text": [
      "AUC: 0.9667048977413384\n",
      "accuracy: 0.9666695086253446\n",
      "recall  : 1.0\n",
      "precision : 0.9374426593270605\n",
      "f1-score :  0.9677113847102615\n",
      "AUC: 0.9670274151088892\n",
      "accuracy: 0.9671091895332953\n",
      "recall  : 1.0\n",
      "precision : 0.9384218105974077\n",
      "f1-score :  0.9682328226674181\n"
     ]
    }
   ],
   "source": [
    "model=tree.DecisionTreeClassifier(random_state=42,max_depth=4) ##Building model with columns=7 and max_depth=4\n",
    "model.fit(Xtrain[impcols],ytrain)\n",
    "trainp=model.predict(Xtrain[impcols])\n",
    "testp=model.predict(Xtest[impcols])\n",
    "printscores(ytrain,trainp) ##Checking metrics score with columns=7 and max_depth=4\n",
    "printscores(ytest,testp)"
   ]
  },
  {
   "cell_type": "code",
   "execution_count": 89,
   "metadata": {},
   "outputs": [
    {
     "data": {
      "text/plain": [
       "Index(['cough', 'fever', 'sore_throat', 'shortness_of_breath', 'head_ache',\n",
       "       'test_indication_Other'],\n",
       "      dtype='object')"
      ]
     },
     "execution_count": 89,
     "metadata": {},
     "output_type": "execute_result"
    }
   ],
   "source": [
    "from sklearn import feature_selection\n",
    "rfeobj=feature_selection.RFE(tree.DecisionTreeClassifier(random_state=42),n_features_to_select=6) ##RFE of Column=6\n",
    "rfeobj.fit(Xtrain,ytrain)\n",
    "impcols=Xtrain.columns[rfeobj.support_] \n",
    "impcols"
   ]
  },
  {
   "cell_type": "code",
   "execution_count": 90,
   "metadata": {},
   "outputs": [
    {
     "name": "stdout",
     "output_type": "stream",
     "text": [
      "AUC: 0.9744949523625668\n",
      "accuracy: 0.9744678432375593\n",
      "recall  : 1.0\n",
      "precision : 0.9513673862676743\n",
      "f1-score :  0.9750776742121616\n",
      "AUC: 0.9742468157523866\n",
      "accuracy: 0.9743106855346746\n",
      "recall  : 1.0\n",
      "precision : 0.9512471369963001\n",
      "f1-score :  0.9750145114479201\n"
     ]
    }
   ],
   "source": [
    "model=tree.DecisionTreeClassifier(random_state=42) ##Building model with columns=6\n",
    "model.fit(Xtrain[impcols],ytrain)\n",
    "trainp=model.predict(Xtrain[impcols])\n",
    "testp=model.predict(Xtest[impcols])\n",
    "printscores(ytrain,trainp) ##Checking metrics score with columns=6\n",
    "printscores(ytest,testp)"
   ]
  },
  {
   "cell_type": "code",
   "execution_count": 91,
   "metadata": {},
   "outputs": [
    {
     "data": {
      "text/plain": [
       "{'max_depth': 4}"
      ]
     },
     "execution_count": 91,
     "metadata": {},
     "output_type": "execute_result"
    }
   ],
   "source": [
    "##GridSearchCv on columns=6 for parameter tunning\n",
    "maxdepthvalues=list(range(3,15))\n",
    "d={\"max_depth\": maxdepthvalues}\n",
    "obj=model_selection.GridSearchCV(estimator=tree.DecisionTreeClassifier(random_state=42),param_grid=d, cv=3 ,scoring=\"recall\",return_train_score=True)\n",
    "obj.fit(Xtrain[impcols],ytrain)\n",
    "obj.best_params_"
   ]
  },
  {
   "cell_type": "code",
   "execution_count": 92,
   "metadata": {},
   "outputs": [
    {
     "name": "stdout",
     "output_type": "stream",
     "text": [
      "AUC: 0.9667048977413384\n",
      "accuracy: 0.9666695086253446\n",
      "recall  : 1.0\n",
      "precision : 0.9374426593270605\n",
      "f1-score :  0.9677113847102615\n",
      "AUC: 0.9670274151088892\n",
      "accuracy: 0.9671091895332953\n",
      "recall  : 1.0\n",
      "precision : 0.9384218105974077\n",
      "f1-score :  0.9682328226674181\n"
     ]
    }
   ],
   "source": [
    "model=tree.DecisionTreeClassifier(random_state=42,max_depth=4)##Building model with columns=6 and max_depth=4\n",
    "model.fit(Xtrain[impcols],ytrain)\n",
    "trainp=model.predict(Xtrain[impcols])\n",
    "testp=model.predict(Xtest[impcols])\n",
    "printscores(ytrain,trainp) ##Checking metrics score with columns=6 and max_depth=4\n",
    "printscores(ytest,testp)"
   ]
  },
  {
   "cell_type": "markdown",
   "metadata": {},
   "source": [
    "# RANDOM FOREST"
   ]
  },
  {
   "cell_type": "code",
   "execution_count": 93,
   "metadata": {
    "scrolled": true
   },
   "outputs": [
    {
     "name": "stdout",
     "output_type": "stream",
     "text": [
      "AUC: 0.9745063081273209\n",
      "accuracy: 0.974479211072271\n",
      "recall  : 1.0\n",
      "precision : 0.9513879866614698\n",
      "f1-score :  0.9750884941022426\n",
      "AUC: 0.9742202907420869\n",
      "accuracy: 0.974284160687524\n",
      "recall  : 0.9999735407736677\n",
      "precision : 0.9512219677330045\n",
      "f1-score :  0.9749887133182845\n"
     ]
    }
   ],
   "source": [
    "rf=ensemble.RandomForestClassifier(random_state=100,n_estimators=100,oob_score=True) ##unconstrained model (All columns)\n",
    "rf.fit(Xtrain,ytrain)\n",
    "testpred=rf.predict(Xtest)\n",
    "trainpred=rf.predict(Xtrain)\n",
    "printscores(ytrain,trainpred)\n",
    "printscores(ytest,testpred)"
   ]
  },
  {
   "cell_type": "code",
   "execution_count": 94,
   "metadata": {},
   "outputs": [
    {
     "data": {
      "text/plain": [
       "{'max_depth': 3}"
      ]
     },
     "execution_count": 94,
     "metadata": {},
     "output_type": "execute_result"
    }
   ],
   "source": [
    "##GridSearchCv on all columns for parameter tunning\n",
    "maxdepthvalues=list(range(3,15))\n",
    "d={\"max_depth\": maxdepthvalues}\n",
    "obj=model_selection.GridSearchCV(estimator=ensemble.RandomForestClassifier(random_state=42),param_grid=d, cv=3 ,scoring=\"recall\",return_train_score=True)\n",
    "obj.fit(Xtrain,ytrain)\n",
    "obj.best_params_"
   ]
  },
  {
   "cell_type": "code",
   "execution_count": 95,
   "metadata": {},
   "outputs": [
    {
     "name": "stdout",
     "output_type": "stream",
     "text": [
      "AUC: 0.9617638472137128\n",
      "accuracy: 0.9617245005257623\n",
      "recall  : 0.9987823474520336\n",
      "precision : 0.9297942665847405\n",
      "f1-score :  0.9630544034059736\n",
      "AUC: 0.9619386987730589\n",
      "accuracy: 0.9620296813039615\n",
      "recall  : 0.9986241202307244\n",
      "precision : 0.9306833033314428\n",
      "f1-score :  0.9634574393403704\n"
     ]
    }
   ],
   "source": [
    "rf=ensemble.RandomForestClassifier(random_state=100,n_estimators=100,max_depth=3,oob_score=True) ##Building model with all columns and max_depth=3\n",
    "rf.fit(Xtrain,ytrain)\n",
    "testpred=rf.predict(Xtest)\n",
    "trainpred=rf.predict(Xtrain)\n",
    "printscores(ytrain,trainpred) ##Checking metrics score with all columns and max_depth=3\n",
    "printscores(ytest,testpred)"
   ]
  },
  {
   "cell_type": "code",
   "execution_count": 96,
   "metadata": {},
   "outputs": [
    {
     "name": "stdout",
     "output_type": "stream",
     "text": [
      "AUC: 0.9623442840758111\n",
      "accuracy: 0.9623042600960582\n",
      "recall  : 1.0\n",
      "precision : 0.9298245614035088\n",
      "f1-score :  0.9636363636363636\n",
      "AUC: 0.9626133432605632\n",
      "accuracy: 0.962706064906301\n",
      "recall  : 1.0\n",
      "precision : 0.9307491503718662\n",
      "f1-score :  0.9641326530612245\n"
     ]
    }
   ],
   "source": [
    "rf=ensemble.RandomForestClassifier(random_state=100,n_estimators=100,max_depth=4,oob_score=True) ##Building model with all columns and max_depth=4\n",
    "rf.fit(Xtrain,ytrain)\n",
    "testpred=rf.predict(Xtest)\n",
    "trainpred=rf.predict(Xtrain)\n",
    "printscores(ytrain,trainpred) ##Checking metrics score with all columns and max_depth=4\n",
    "printscores(ytest,testpred)"
   ]
  },
  {
   "cell_type": "code",
   "execution_count": 97,
   "metadata": {},
   "outputs": [
    {
     "name": "stdout",
     "output_type": "stream",
     "text": [
      "AUC: 0.9623045388991722\n",
      "accuracy: 0.9622644726745673\n",
      "recall  : 1.0\n",
      "precision : 0.9297556949837589\n",
      "f1-score :  0.9635993793417295\n",
      "AUC: 0.9625601616720291\n",
      "accuracy: 0.9626530152119999\n",
      "recall  : 1.0\n",
      "precision : 0.9306574735286876\n",
      "f1-score :  0.9640834651293302\n"
     ]
    }
   ],
   "source": [
    "rf=ensemble.RandomForestClassifier(random_state=100,n_estimators=100,max_depth=5,oob_score=True) ##Building model with all columns and max_depth=5\n",
    "rf.fit(Xtrain,ytrain)\n",
    "testpred=rf.predict(Xtest)\n",
    "trainpred=rf.predict(Xtrain)\n",
    "printscores(ytrain,trainpred) ##Checking metrics score with all columns and max_depth=5\n",
    "printscores(ytest,testpred)"
   ]
  },
  {
   "cell_type": "code",
   "execution_count": 98,
   "metadata": {},
   "outputs": [
    {
     "name": "stdout",
     "output_type": "stream",
     "text": [
      "AUC: 0.9735126787113478\n",
      "accuracy: 0.9734845255349988\n",
      "recall  : 1.0\n",
      "precision : 0.9495888220101795\n",
      "f1-score :  0.9741426615598655\n",
      "AUC: 0.9733427287473078\n",
      "accuracy: 0.9734088407315553\n",
      "recall  : 1.0\n",
      "precision : 0.949621849795221\n",
      "f1-score :  0.9741600402098128\n"
     ]
    }
   ],
   "source": [
    "rf=ensemble.RandomForestClassifier(random_state=100,n_estimators=100,max_depth=6,oob_score=True) ##Building model with all columns and max_depth=6\n",
    "rf.fit(Xtrain,ytrain)\n",
    "testpred=rf.predict(Xtest)\n",
    "trainpred=rf.predict(Xtrain)\n",
    "printscores(ytrain,trainpred) ##Checking metrics score with all columns and max_depth=6\n",
    "printscores(ytest,testpred)"
   ]
  },
  {
   "cell_type": "code",
   "execution_count": 99,
   "metadata": {},
   "outputs": [
    {
     "name": "stdout",
     "output_type": "stream",
     "text": [
      "AUC: 0.9744892744801898\n",
      "accuracy: 0.9744621593202035\n",
      "recall  : 1.0\n",
      "precision : 0.9513570864053179\n",
      "f1-score :  0.9750722643571663\n",
      "AUC: 0.974206929560986\n",
      "accuracy: 0.9742708982639487\n",
      "recall  : 1.0\n",
      "precision : 0.9511753158504052\n",
      "f1-score :  0.9749767825817769\n"
     ]
    }
   ],
   "source": [
    "rf=ensemble.RandomForestClassifier(random_state=100,n_estimators=100,max_depth=7,oob_score=True) ##Building model with all columns and max_depth=7\n",
    "rf.fit(Xtrain,ytrain)\n",
    "testpred=rf.predict(Xtest)\n",
    "trainpred=rf.predict(Xtrain)\n",
    "printscores(ytrain,trainpred) ##Checking metrics score with all columns and max_depth=7\n",
    "printscores(ytest,testpred)"
   ]
  },
  {
   "cell_type": "code",
   "execution_count": 100,
   "metadata": {},
   "outputs": [
    {
     "data": {
      "text/plain": [
       "Index(['cough', 'fever', 'sore_throat', 'shortness_of_breath', 'head_ache',\n",
       "       'age_60_and_above_Yes', 'test_indication_Contact_with_confirmed',\n",
       "       'test_indication_Other'],\n",
       "      dtype='object')"
      ]
     },
     "execution_count": 100,
     "metadata": {},
     "output_type": "execute_result"
    }
   ],
   "source": [
    "rfeobj=feature_selection.RFE(ensemble.RandomForestClassifier(random_state=42),n_features_to_select=8) ##RFE of Column=8\n",
    "rfeobj.fit(Xtrain,ytrain)\n",
    "impcols=Xtrain.columns[rfeobj.support_] \n",
    "impcols"
   ]
  },
  {
   "cell_type": "code",
   "execution_count": 101,
   "metadata": {},
   "outputs": [
    {
     "name": "stdout",
     "output_type": "stream",
     "text": [
      "AUC: 0.9744949523625668\n",
      "accuracy: 0.9744678432375593\n",
      "recall  : 1.0\n",
      "precision : 0.9513673862676743\n",
      "f1-score :  0.9750776742121616\n",
      "AUC: 0.974233520355253\n",
      "accuracy: 0.9742974231110993\n",
      "recall  : 1.0\n",
      "precision : 0.9512231954092419\n",
      "f1-score :  0.9750019348347652\n"
     ]
    }
   ],
   "source": [
    "rf=ensemble.RandomForestClassifier(random_state=100,n_estimators=100,oob_score=True) ##Building model with columns=8\n",
    "rf.fit(Xtrain[impcols],ytrain)\n",
    "trainpred=rf.predict(Xtrain[impcols])\n",
    "testpred=rf.predict(Xtest[impcols])\n",
    "printscores(ytrain,trainpred) ##Checking metrics score with columns=8\n",
    "printscores(ytest,testpred)"
   ]
  },
  {
   "cell_type": "code",
   "execution_count": 102,
   "metadata": {},
   "outputs": [
    {
     "data": {
      "text/plain": [
       "{'max_depth': 3}"
      ]
     },
     "execution_count": 102,
     "metadata": {},
     "output_type": "execute_result"
    }
   ],
   "source": [
    "##GridSearchCv on columns=8 for parameter tunning\n",
    "maxdepthvalues=list(range(3,15))\n",
    "d={\"max_depth\": maxdepthvalues}\n",
    "obj=model_selection.GridSearchCV(estimator=ensemble.RandomForestClassifier(random_state=42),param_grid=d, cv=3 ,scoring=\"recall\",return_train_score=True)\n",
    "obj.fit(Xtrain[impcols],ytrain)\n",
    "obj.best_params_"
   ]
  },
  {
   "cell_type": "code",
   "execution_count": 103,
   "metadata": {},
   "outputs": [
    {
     "name": "stdout",
     "output_type": "stream",
     "text": [
      "AUC: 0.9601412657135394\n",
      "accuracy: 0.9600989001619916\n",
      "recall  : 1.0\n",
      "precision : 0.9260227200876768\n",
      "f1-score :  0.9615906504420906\n",
      "AUC: 0.960379716542133\n",
      "accuracy: 0.9604779777456532\n",
      "recall  : 1.0\n",
      "precision : 0.9269142100358071\n",
      "f1-score :  0.9620710721922412\n"
     ]
    }
   ],
   "source": [
    "rf=ensemble.RandomForestClassifier(random_state=100,n_estimators=100,max_depth=3,oob_score=True) ##Building model with columns=8 and max_depth=3\n",
    "rf.fit(Xtrain[impcols],ytrain)\n",
    "trainpred=rf.predict(Xtrain[impcols])\n",
    "testpred=rf.predict(Xtest[impcols])\n",
    "printscores(ytrain,trainpred) ##Checking metrics score with columns=8 and max_depth=3\n",
    "printscores(ytest,testpred)"
   ]
  },
  {
   "cell_type": "code",
   "execution_count": 104,
   "metadata": {},
   "outputs": [
    {
     "name": "stdout",
     "output_type": "stream",
     "text": [
      "AUC: 0.9600731311250157\n",
      "accuracy: 0.9600306931537216\n",
      "recall  : 1.0\n",
      "precision : 0.925905632942069\n",
      "f1-score :  0.9615275194222562\n",
      "AUC: 0.9603398303507326\n",
      "accuracy: 0.9604381904749274\n",
      "recall  : 1.0\n",
      "precision : 0.9268460161365476\n",
      "f1-score :  0.9620343383691184\n"
     ]
    }
   ],
   "source": [
    "rf=ensemble.RandomForestClassifier(random_state=100,n_estimators=100,max_depth=4,oob_score=True) ##Building model with columns=8 and max_depth=4\n",
    "rf.fit(Xtrain[impcols],ytrain)\n",
    "trainpred=rf.predict(Xtrain[impcols])\n",
    "testpred=rf.predict(Xtest[impcols])\n",
    "printscores(ytrain,trainpred) ##Checking metrics score with columns=8 and max_depth=4\n",
    "printscores(ytest,testpred)"
   ]
  },
  {
   "cell_type": "code",
   "execution_count": 105,
   "metadata": {},
   "outputs": [
    {
     "name": "stdout",
     "output_type": "stream",
     "text": [
      "AUC: 0.9622534379577793\n",
      "accuracy: 0.9622133174183647\n",
      "recall  : 1.0\n",
      "precision : 0.9296671674319206\n",
      "f1-score :  0.9635518322770236\n",
      "AUC: 0.9625335708777621\n",
      "accuracy: 0.9626264903648493\n",
      "recall  : 1.0\n",
      "precision : 0.9306116418792475\n",
      "f1-score :  0.9640588730454303\n"
     ]
    }
   ],
   "source": [
    "rf=ensemble.RandomForestClassifier(random_state=100,n_estimators=100,max_depth=5,oob_score=True) ##Building model with columns=8 and max_depth=5\n",
    "rf.fit(Xtrain[impcols],ytrain)\n",
    "trainpred=rf.predict(Xtrain[impcols])\n",
    "testpred=rf.predict(Xtest[impcols])\n",
    "printscores(ytrain,trainpred) ##Checking metrics score with columns=8 and max_depth=5\n",
    "printscores(ytest,testpred)"
   ]
  },
  {
   "cell_type": "code",
   "execution_count": 106,
   "metadata": {},
   "outputs": [
    {
     "name": "stdout",
     "output_type": "stream",
     "text": [
      "AUC: 0.9737795391830663\n",
      "accuracy: 0.9737516696507232\n",
      "recall  : 1.0\n",
      "precision : 0.9500713575228128\n",
      "f1-score :  0.9743965048845126\n",
      "AUC: 0.9735687504985774\n",
      "accuracy: 0.9736343019323351\n",
      "recall  : 1.0\n",
      "precision : 0.9500276506962948\n",
      "f1-score :  0.9743735175827576\n"
     ]
    }
   ],
   "source": [
    "rf=ensemble.RandomForestClassifier(random_state=100,n_estimators=100,max_depth=6,oob_score=True) ##Building model with columns=8 and max_depth=6\n",
    "rf.fit(Xtrain[impcols],ytrain)\n",
    "trainpred=rf.predict(Xtrain[impcols])\n",
    "testpred=rf.predict(Xtest[impcols])\n",
    "printscores(ytrain,trainpred) ##Checking metrics score with columns=8 and max_depth=6\n",
    "printscores(ytest,testpred)"
   ]
  },
  {
   "cell_type": "code",
   "execution_count": 107,
   "metadata": {},
   "outputs": [
    {
     "data": {
      "text/plain": [
       "Index(['cough', 'fever', 'sore_throat', 'shortness_of_breath', 'head_ache',\n",
       "       'test_indication_Contact_with_confirmed', 'test_indication_Other'],\n",
       "      dtype='object')"
      ]
     },
     "execution_count": 107,
     "metadata": {},
     "output_type": "execute_result"
    }
   ],
   "source": [
    "rfeobj=feature_selection.RFE(ensemble.RandomForestClassifier(random_state=42),n_features_to_select=7) ##RFE of Column=7\n",
    "rfeobj.fit(Xtrain,ytrain)\n",
    "impcols=Xtrain.columns[rfeobj.support_] \n",
    "impcols"
   ]
  },
  {
   "cell_type": "markdown",
   "metadata": {},
   "source": [
    "### Final Model"
   ]
  },
  {
   "cell_type": "code",
   "execution_count": 109,
   "metadata": {},
   "outputs": [
    {
     "name": "stdout",
     "output_type": "stream",
     "text": [
      "AUC: 0.9744949523625668\n",
      "accuracy: 0.9744678432375593\n",
      "recall  : 1.0\n",
      "precision : 0.9513673862676743\n",
      "f1-score :  0.9750776742121616\n",
      "AUC: 0.974233520355253\n",
      "accuracy: 0.9742974231110993\n",
      "recall  : 1.0\n",
      "precision : 0.9512231954092419\n",
      "f1-score :  0.9750019348347652\n"
     ]
    }
   ],
   "source": [
    "rf=ensemble.RandomForestClassifier(random_state=42,n_estimators=100,oob_score=True) ##Building model with columns=7\n",
    "rf.fit(Xtrain[impcols],ytrain)\n",
    "trainpred=rf.predict(Xtrain[impcols])\n",
    "testpred=rf.predict(Xtest[impcols])\n",
    "printscores(ytrain,trainpred) ##Checking metrics score with columns=7\n",
    "printscores(ytest,testpred)"
   ]
  },
  {
   "cell_type": "code",
   "execution_count": 110,
   "metadata": {},
   "outputs": [
    {
     "data": {
      "text/plain": [
       "{'max_depth': 3}"
      ]
     },
     "execution_count": 110,
     "metadata": {},
     "output_type": "execute_result"
    }
   ],
   "source": [
    "##GridSearchCv on columns=7 for parameter tunning\n",
    "maxdepthvalues=list(range(3,15))\n",
    "d={\"max_depth\": maxdepthvalues}\n",
    "obj=model_selection.GridSearchCV(estimator=ensemble.RandomForestClassifier(random_state=42),param_grid=d, cv=3 ,scoring=\"recall\",return_train_score=True)\n",
    "obj.fit(Xtrain[impcols],ytrain)\n",
    "obj.best_params_"
   ]
  },
  {
   "cell_type": "code",
   "execution_count": 111,
   "metadata": {},
   "outputs": [
    {
     "name": "stdout",
     "output_type": "stream",
     "text": [
      "AUC: 0.9623329283110571\n",
      "accuracy: 0.9622928922613465\n",
      "recall  : 1.0\n",
      "precision : 0.9298048842426038\n",
      "f1-score :  0.963625796405347\n",
      "AUC: 0.9625734570691626\n",
      "accuracy: 0.9626662776355751\n",
      "recall  : 1.0\n",
      "precision : 0.9306803910463198\n",
      "f1-score :  0.9640957616417739\n"
     ]
    }
   ],
   "source": [
    "rf=ensemble.RandomForestClassifier(random_state=42,n_estimators=100,max_depth=3,oob_score=True) ##Building model with columns=7 and max_depth=3\n",
    "rf.fit(Xtrain[impcols],ytrain)\n",
    "trainpred=rf.predict(Xtrain[impcols])\n",
    "testpred=rf.predict(Xtest[impcols])\n",
    "printscores(ytrain,trainpred) ##Checking metrics score with columns=7 and max_depth=3\n",
    "printscores(ytest,testpred)"
   ]
  },
  {
   "cell_type": "code",
   "execution_count": 112,
   "metadata": {},
   "outputs": [
    {
     "name": "stdout",
     "output_type": "stream",
     "text": [
      "AUC: 0.9623045388991722\n",
      "accuracy: 0.9622644726745673\n",
      "recall  : 1.0\n",
      "precision : 0.9297556949837589\n",
      "f1-score :  0.9635993793417295\n",
      "AUC: 0.9625601616720291\n",
      "accuracy: 0.9626530152119999\n",
      "recall  : 1.0\n",
      "precision : 0.9306574735286876\n",
      "f1-score :  0.9640834651293302\n"
     ]
    }
   ],
   "source": [
    "rf=ensemble.RandomForestClassifier(random_state=42,n_estimators=100,max_depth=4,oob_score=True) ##Building model with columns=7 and max_depth=4\n",
    "rf.fit(Xtrain[impcols],ytrain)\n",
    "trainpred=rf.predict(Xtrain[impcols])\n",
    "testpred=rf.predict(Xtest[impcols])\n",
    "printscores(ytrain,trainpred) ##Checking metrics score with columns=7 and max_depth=4\n",
    "printscores(ytest,testpred)"
   ]
  },
  {
   "cell_type": "code",
   "execution_count": 113,
   "metadata": {},
   "outputs": [
    {
     "name": "stdout",
     "output_type": "stream",
     "text": [
      "AUC: 0.9737397940064273\n",
      "accuracy: 0.9737118822292324\n",
      "recall  : 1.0\n",
      "precision : 0.9499994594536157\n",
      "f1-score :  0.9743586900478454\n",
      "AUC: 0.9735554551014438\n",
      "accuracy: 0.9736210395087598\n",
      "recall  : 1.0\n",
      "precision : 0.9500037704547168\n",
      "f1-score :  0.9743609575002901\n"
     ]
    }
   ],
   "source": [
    "rf=ensemble.RandomForestClassifier(random_state=42,n_estimators=100,max_depth=5,oob_score=True) ##Building model with columns=7 and max_depth=5\n",
    "rf.fit(Xtrain[impcols],ytrain)\n",
    "trainpred=rf.predict(Xtrain[impcols])\n",
    "testpred=rf.predict(Xtest[impcols])\n",
    "printscores(ytrain,trainpred) ##Checking metrics score with columns=7 and max_depth=5\n",
    "printscores(ytest,testpred)"
   ]
  },
  {
   "cell_type": "code",
   "execution_count": 114,
   "metadata": {},
   "outputs": [
    {
     "name": "stdout",
     "output_type": "stream",
     "text": [
      "AUC: 0.9744949523625668\n",
      "accuracy: 0.9744678432375593\n",
      "recall  : 1.0\n",
      "precision : 0.9513673862676743\n",
      "f1-score :  0.9750776742121616\n",
      "AUC: 0.974233520355253\n",
      "accuracy: 0.9742974231110993\n",
      "recall  : 1.0\n",
      "precision : 0.9512231954092419\n",
      "f1-score :  0.9750019348347652\n"
     ]
    }
   ],
   "source": [
    "rf=ensemble.RandomForestClassifier(random_state=42,n_estimators=100,max_depth=6,oob_score=True) ##Building model with columns=7 and max_depth=6\n",
    "rf.fit(Xtrain[impcols],ytrain)\n",
    "trainpred=rf.predict(Xtrain[impcols])\n",
    "testpred=rf.predict(Xtest[impcols])\n",
    "printscores(ytrain,trainpred) ##Checking metrics score with columns=7 and max_depth=6\n",
    "printscores(ytest,testpred)"
   ]
  },
  {
   "cell_type": "markdown",
   "metadata": {},
   "source": [
    "# NAIVE BAYES "
   ]
  },
  {
   "cell_type": "code",
   "execution_count": 123,
   "metadata": {},
   "outputs": [
    {
     "data": {
      "text/plain": [
       "GaussianNB()"
      ]
     },
     "execution_count": 123,
     "metadata": {},
     "output_type": "execute_result"
    }
   ],
   "source": [
    "from sklearn import naive_bayes\n",
    "nb=naive_bayes.GaussianNB() ##creating a naive bayes model object\n",
    "nb.fit(Xtrain,ytrain)"
   ]
  },
  {
   "cell_type": "code",
   "execution_count": 125,
   "metadata": {},
   "outputs": [
    {
     "name": "stdout",
     "output_type": "stream",
     "text": [
      "AUC: 0.8975031021375348\n",
      "accuracy: 0.8975644414130218\n",
      "recall  : 0.8397933404647564\n",
      "precision : 0.9492667867249807\n",
      "f1-score :  0.891180697284046\n",
      "AUC: 0.8950555284157409\n",
      "accuracy: 0.8949085555894484\n",
      "recall  : 0.83579404138223\n",
      "precision : 0.9484177025160632\n",
      "f1-score :  0.8885513361462728\n"
     ]
    }
   ],
   "source": [
    "testpred=nb.predict(Xtest)\n",
    "trainpred=nb.predict(Xtrain)\n",
    "printscores(ytrain,trainpred) ##Checking metrics score\n",
    "printscores(ytest,testpred)"
   ]
  },
  {
   "cell_type": "code",
   "execution_count": 126,
   "metadata": {},
   "outputs": [
    {
     "data": {
      "text/html": [
       "<div>\n",
       "<style scoped>\n",
       "    .dataframe tbody tr th:only-of-type {\n",
       "        vertical-align: middle;\n",
       "    }\n",
       "\n",
       "    .dataframe tbody tr th {\n",
       "        vertical-align: top;\n",
       "    }\n",
       "\n",
       "    .dataframe thead th {\n",
       "        text-align: right;\n",
       "    }\n",
       "</style>\n",
       "<table border=\"1\" class=\"dataframe\">\n",
       "  <thead>\n",
       "    <tr style=\"text-align: right;\">\n",
       "      <th>Predicted</th>\n",
       "      <th>0</th>\n",
       "      <th>1</th>\n",
       "      <th>All</th>\n",
       "    </tr>\n",
       "    <tr>\n",
       "      <th>Actual</th>\n",
       "      <th></th>\n",
       "      <th></th>\n",
       "      <th></th>\n",
       "    </tr>\n",
       "  </thead>\n",
       "  <tbody>\n",
       "    <tr>\n",
       "      <th>0</th>\n",
       "      <td>35889</td>\n",
       "      <td>1718</td>\n",
       "      <td>37607</td>\n",
       "    </tr>\n",
       "    <tr>\n",
       "      <th>1</th>\n",
       "      <td>6206</td>\n",
       "      <td>31588</td>\n",
       "      <td>37794</td>\n",
       "    </tr>\n",
       "    <tr>\n",
       "      <th>All</th>\n",
       "      <td>42095</td>\n",
       "      <td>33306</td>\n",
       "      <td>75401</td>\n",
       "    </tr>\n",
       "  </tbody>\n",
       "</table>\n",
       "</div>"
      ],
      "text/plain": [
       "Predicted      0      1    All\n",
       "Actual                        \n",
       "0          35889   1718  37607\n",
       "1           6206  31588  37794\n",
       "All        42095  33306  75401"
      ]
     },
     "execution_count": 126,
     "metadata": {},
     "output_type": "execute_result"
    }
   ],
   "source": [
    "pd.crosstab(ytest, testpred, rownames=['Actual'], colnames=['Predicted'], margins=True)"
   ]
  },
  {
   "cell_type": "markdown",
   "metadata": {},
   "source": [
    "# KNN"
   ]
  },
  {
   "cell_type": "code",
   "execution_count": 127,
   "metadata": {},
   "outputs": [
    {
     "name": "stdout",
     "output_type": "stream",
     "text": [
      "AUC: 0.973491858538905\n",
      "accuracy: 0.9735282025437328\n",
      "recall  : 0.9881462666031645\n",
      "precision : 0.9601995166349565\n",
      "f1-score :  0.9739724598372627\n"
     ]
    }
   ],
   "source": [
    "from sklearn import neighbors\n",
    "model=neighbors.KNeighborsClassifier(n_neighbors=7) \n",
    "model.fit(Xtrain,ytrain) ##fitting data with n_neighbors=7\n",
    "testpred=model.predict(Xtest)\n",
    "printscores(ytest,testpred) ##Checking metrics score with n_neighbors=7"
   ]
  },
  {
   "cell_type": "code",
   "execution_count": 128,
   "metadata": {},
   "outputs": [
    {
     "data": {
      "text/html": [
       "<div>\n",
       "<style scoped>\n",
       "    .dataframe tbody tr th:only-of-type {\n",
       "        vertical-align: middle;\n",
       "    }\n",
       "\n",
       "    .dataframe tbody tr th {\n",
       "        vertical-align: top;\n",
       "    }\n",
       "\n",
       "    .dataframe thead th {\n",
       "        text-align: right;\n",
       "    }\n",
       "</style>\n",
       "<table border=\"1\" class=\"dataframe\">\n",
       "  <thead>\n",
       "    <tr style=\"text-align: right;\">\n",
       "      <th>Predicted</th>\n",
       "      <th>0</th>\n",
       "      <th>1</th>\n",
       "      <th>All</th>\n",
       "    </tr>\n",
       "    <tr>\n",
       "      <th>Actual</th>\n",
       "      <th></th>\n",
       "      <th></th>\n",
       "      <th></th>\n",
       "    </tr>\n",
       "  </thead>\n",
       "  <tbody>\n",
       "    <tr>\n",
       "      <th>0</th>\n",
       "      <td>36059</td>\n",
       "      <td>1548</td>\n",
       "      <td>37607</td>\n",
       "    </tr>\n",
       "    <tr>\n",
       "      <th>1</th>\n",
       "      <td>448</td>\n",
       "      <td>37346</td>\n",
       "      <td>37794</td>\n",
       "    </tr>\n",
       "    <tr>\n",
       "      <th>All</th>\n",
       "      <td>36507</td>\n",
       "      <td>38894</td>\n",
       "      <td>75401</td>\n",
       "    </tr>\n",
       "  </tbody>\n",
       "</table>\n",
       "</div>"
      ],
      "text/plain": [
       "Predicted      0      1    All\n",
       "Actual                        \n",
       "0          36059   1548  37607\n",
       "1            448  37346  37794\n",
       "All        36507  38894  75401"
      ]
     },
     "execution_count": 128,
     "metadata": {},
     "output_type": "execute_result"
    }
   ],
   "source": [
    "pd.crosstab(ytest, testpred, rownames=['Actual'], colnames=['Predicted'], margins=True)"
   ]
  },
  {
   "cell_type": "code",
   "execution_count": 129,
   "metadata": {},
   "outputs": [
    {
     "name": "stdout",
     "output_type": "stream",
     "text": [
      "AUC: 0.973491858538905\n",
      "accuracy: 0.9735282025437328\n",
      "recall  : 0.9881462666031645\n",
      "precision : 0.9601995166349565\n",
      "f1-score :  0.9739724598372627\n"
     ]
    }
   ],
   "source": [
    "from sklearn import neighbors\n",
    "model=neighbors.KNeighborsClassifier(n_neighbors=11) \n",
    "model.fit(Xtrain,ytrain) ##fitting data with n_neighbors= 11\n",
    "testpred=model.predict(Xtest)\n",
    "printscores(ytest,testpred) ##Checking metrics score with n_neighbors=11"
   ]
  },
  {
   "cell_type": "code",
   "execution_count": 130,
   "metadata": {},
   "outputs": [
    {
     "data": {
      "text/html": [
       "<div>\n",
       "<style scoped>\n",
       "    .dataframe tbody tr th:only-of-type {\n",
       "        vertical-align: middle;\n",
       "    }\n",
       "\n",
       "    .dataframe tbody tr th {\n",
       "        vertical-align: top;\n",
       "    }\n",
       "\n",
       "    .dataframe thead th {\n",
       "        text-align: right;\n",
       "    }\n",
       "</style>\n",
       "<table border=\"1\" class=\"dataframe\">\n",
       "  <thead>\n",
       "    <tr style=\"text-align: right;\">\n",
       "      <th>Predicted</th>\n",
       "      <th>0</th>\n",
       "      <th>1</th>\n",
       "      <th>All</th>\n",
       "    </tr>\n",
       "    <tr>\n",
       "      <th>Actual</th>\n",
       "      <th></th>\n",
       "      <th></th>\n",
       "      <th></th>\n",
       "    </tr>\n",
       "  </thead>\n",
       "  <tbody>\n",
       "    <tr>\n",
       "      <th>0</th>\n",
       "      <td>36059</td>\n",
       "      <td>1548</td>\n",
       "      <td>37607</td>\n",
       "    </tr>\n",
       "    <tr>\n",
       "      <th>1</th>\n",
       "      <td>448</td>\n",
       "      <td>37346</td>\n",
       "      <td>37794</td>\n",
       "    </tr>\n",
       "    <tr>\n",
       "      <th>All</th>\n",
       "      <td>36507</td>\n",
       "      <td>38894</td>\n",
       "      <td>75401</td>\n",
       "    </tr>\n",
       "  </tbody>\n",
       "</table>\n",
       "</div>"
      ],
      "text/plain": [
       "Predicted      0      1    All\n",
       "Actual                        \n",
       "0          36059   1548  37607\n",
       "1            448  37346  37794\n",
       "All        36507  38894  75401"
      ]
     },
     "execution_count": 130,
     "metadata": {},
     "output_type": "execute_result"
    }
   ],
   "source": [
    "pd.crosstab(ytest, testpred, rownames=['Actual'], colnames=['Predicted'], margins=True)"
   ]
  },
  {
   "cell_type": "code",
   "execution_count": 131,
   "metadata": {},
   "outputs": [
    {
     "name": "stdout",
     "output_type": "stream",
     "text": [
      "AUC: 0.9660371841743914\n",
      "accuracy: 0.966021670800122\n",
      "recall  : 0.9597819759750225\n",
      "precision : 0.9720763211491049\n",
      "f1-score :  0.9658900279589935\n"
     ]
    }
   ],
   "source": [
    "from sklearn import neighbors\n",
    "model=neighbors.KNeighborsClassifier(n_neighbors=3) \n",
    "model.fit(Xtrain,ytrain) ##fitting data with n_neighbors= 3\n",
    "testpred=model.predict(Xtest)\n",
    "printscores(ytest,testpred) ##Checking metrics score with n_neighbors=3"
   ]
  },
  {
   "cell_type": "code",
   "execution_count": 132,
   "metadata": {},
   "outputs": [
    {
     "data": {
      "text/html": [
       "<div>\n",
       "<style scoped>\n",
       "    .dataframe tbody tr th:only-of-type {\n",
       "        vertical-align: middle;\n",
       "    }\n",
       "\n",
       "    .dataframe tbody tr th {\n",
       "        vertical-align: top;\n",
       "    }\n",
       "\n",
       "    .dataframe thead th {\n",
       "        text-align: right;\n",
       "    }\n",
       "</style>\n",
       "<table border=\"1\" class=\"dataframe\">\n",
       "  <thead>\n",
       "    <tr style=\"text-align: right;\">\n",
       "      <th>Predicted</th>\n",
       "      <th>0</th>\n",
       "      <th>1</th>\n",
       "      <th>All</th>\n",
       "    </tr>\n",
       "    <tr>\n",
       "      <th>Actual</th>\n",
       "      <th></th>\n",
       "      <th></th>\n",
       "      <th></th>\n",
       "    </tr>\n",
       "  </thead>\n",
       "  <tbody>\n",
       "    <tr>\n",
       "      <th>0</th>\n",
       "      <td>36565</td>\n",
       "      <td>1042</td>\n",
       "      <td>37607</td>\n",
       "    </tr>\n",
       "    <tr>\n",
       "      <th>1</th>\n",
       "      <td>1520</td>\n",
       "      <td>36274</td>\n",
       "      <td>37794</td>\n",
       "    </tr>\n",
       "    <tr>\n",
       "      <th>All</th>\n",
       "      <td>38085</td>\n",
       "      <td>37316</td>\n",
       "      <td>75401</td>\n",
       "    </tr>\n",
       "  </tbody>\n",
       "</table>\n",
       "</div>"
      ],
      "text/plain": [
       "Predicted      0      1    All\n",
       "Actual                        \n",
       "0          36565   1042  37607\n",
       "1           1520  36274  37794\n",
       "All        38085  37316  75401"
      ]
     },
     "execution_count": 132,
     "metadata": {},
     "output_type": "execute_result"
    }
   ],
   "source": [
    "pd.crosstab(ytest, testpred, rownames=['Actual'], colnames=['Predicted'], margins=True)"
   ]
  },
  {
   "cell_type": "code",
   "execution_count": null,
   "metadata": {},
   "outputs": [],
   "source": [
    "'''pickle.dump(rf,open('model.pkl','wb'))\n",
    "model=pickle.load(open('model.pkl','rb'))'''"
   ]
  },
  {
   "cell_type": "code",
   "execution_count": null,
   "metadata": {},
   "outputs": [],
   "source": [
    "'''input_data = (0,0,1,0,0,0,0)\n",
    "input_data_as_numpy_array= np.asarray(input_data)\n",
    "input_data_reshaped = input_data_as_numpy_array.reshape(1,-1)\n",
    "prediction = model.predict(input_data_reshaped)\n",
    "print(prediction)'''"
   ]
  },
  {
   "cell_type": "code",
   "execution_count": null,
   "metadata": {},
   "outputs": [],
   "source": []
  }
 ],
 "metadata": {
  "kernelspec": {
   "display_name": "Python 3",
   "language": "python",
   "name": "python3"
  },
  "language_info": {
   "codemirror_mode": {
    "name": "ipython",
    "version": 3
   },
   "file_extension": ".py",
   "mimetype": "text/x-python",
   "name": "python",
   "nbconvert_exporter": "python",
   "pygments_lexer": "ipython3",
   "version": "3.8.5"
  }
 },
 "nbformat": 4,
 "nbformat_minor": 4
}
